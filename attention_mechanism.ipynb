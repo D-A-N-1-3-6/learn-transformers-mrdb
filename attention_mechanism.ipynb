{
  "nbformat": 4,
  "nbformat_minor": 0,
  "metadata": {
    "colab": {
      "provenance": [],
      "authorship_tag": "ABX9TyMGnFk55mnguE34hBSQaUvD",
      "include_colab_link": true
    },
    "kernelspec": {
      "name": "python3",
      "display_name": "Python 3"
    },
    "language_info": {
      "name": "python"
    }
  },
  "cells": [
    {
      "cell_type": "markdown",
      "metadata": {
        "id": "view-in-github",
        "colab_type": "text"
      },
      "source": [
        "<a href=\"https://colab.research.google.com/github/mrdbourke/learn-transformers/blob/main/attention_mechanism.ipynb\" target=\"_parent\"><img src=\"https://colab.research.google.com/assets/colab-badge.svg\" alt=\"Open In Colab\"/></a>"
      ]
    },
    {
      "cell_type": "markdown",
      "source": [
        "# [WIP] Attention mechanism\n",
        "\n",
        "**Focus:** Build intuition to build up to replicating the original Transformer paper.\n",
        "\n",
        "### This notebook\n",
        "\n",
        "* Recreate self-attention as per Transformer paper\n",
        "* Recreate multi-head attention as per Transformer paper\n",
        "\n",
        "### Later\n",
        "* Recreate Transformer model architecture\n",
        "* Train on a simple example\n",
        "\n",
        "Sources:\n",
        "\n",
        "* Transformer paper: https://arxiv.org/abs/1706.03762\n",
        "* The annotated transformer: http://nlp.seas.harvard.edu/2018/04/01/attention.html\n",
        "* https://lilianweng.github.io/posts/2018-06-24-attention/#self-attention\n",
        "* https://jaykmody.com/blog/attention-intuition/\n",
        "* Compact transformers - https://medium.com/pytorch/training-compact-transformers-from-scratch-in-30-minutes-with-pytorch-ff5c21668ed5\n",
        "* Implemented MHA - https://nn.labml.ai/transformers/mha.html"
      ],
      "metadata": {
        "id": "usdE3sRsGnj_"
      }
    },
    {
      "cell_type": "markdown",
      "source": [
        "## What we're going to do\n",
        "\n",
        "Simple goals:\n",
        "\n",
        "Replicate the following functions/modules as fast as possible:\n",
        "* PyTorch's `scaled_dot_product_attention` - https://pytorch.org/docs/stable/generated/torch.nn.functional.scaled_dot_product_attention.html\n",
        "  * Explain the intuition of the attention mechanism\n",
        "* PyTorch's MultiHeadAttention - https://pytorch.org/docs/stable/generated/torch.nn.MultiheadAttention.html\n",
        "  * Both of these are the same equations used in the Transformer paper\n",
        "* Do with and without masking\n",
        "* Use these to build on the next chatper: replicating the Transformer architecture\n",
        "  * Focus on what the inputs and outputs should be (e.g. text/vision/audio, in essence, seq2seq)\n",
        "\n",
        "\n"
      ],
      "metadata": {
        "id": "b5lKkczcnUaI"
      }
    },
    {
      "cell_type": "code",
      "execution_count": 1,
      "metadata": {
        "id": "6-XaYYv9GcKP"
      },
      "outputs": [],
      "source": [
        "import torch\n",
        "from torch import nn\n",
        "\n",
        "import torch.nn.functional as F"
      ]
    },
    {
      "cell_type": "markdown",
      "source": [
        "## Simple scaled-dot-product-attention (no mask)\n",
        "\n",
        "Attention formula = `softmax((Q, K.T)/torch.sqrt(d_k))V`\n",
        "\n",
        "$$\n",
        "\\operatorname{Attention}(Q, K, V)=\\operatorname{softmax}\\left(\\frac{Q K^{\\mathrm{T}}}{\\sqrt{d_k}}\\right) V\n",
        "$$\n",
        "\n",
        "TK:\n",
        "- Can I replicate this in Google Sheets?... yes I can... kind of (except for softmax, etc)\n",
        "- Turn this function into the same format as the transformer paper (e.g. figure 2)"
      ],
      "metadata": {
        "id": "RvO_nyA2O6tZ"
      }
    },
    {
      "cell_type": "code",
      "source": [
        "def attention(query, key, value):\n",
        "\n",
        "  # Create the scale factor (sqrt(d_k))\n",
        "  d_k = torch.sqrt(torch.tensor(query.shape[-1])) # torch.sqrt needs a tensor\n",
        "\n",
        "  q_k = torch.matmul(query, key.mT) # .mT = matrix Transpose (transposes the last two dimensions)\n",
        "  q_k_softmax_scale = F.softmax(q_k/torch.sqrt(d_k), dim=-1)\n",
        "  q_k_softmax_scale_v = torch.matmul(q_k, value)\n",
        "  return q_k_softmax_scale_v"
      ],
      "metadata": {
        "id": "nMVXnybZGhun"
      },
      "execution_count": 12,
      "outputs": []
    },
    {
      "cell_type": "code",
      "source": [
        "torch.manual_seed(42)\n",
        "x = torch.randn(3, 3)\n",
        "\n",
        "output_custom = attention(query=x, key=x, value=x)\n",
        "output_custom"
      ],
      "metadata": {
        "colab": {
          "base_uri": "https://localhost:8080/"
        },
        "id": "zWgiQ8HWHjcK",
        "outputId": "c3dd9fa6-ae4b-41a1-b475-b2c45a6abfe4"
      },
      "execution_count": 18,
      "outputs": [
        {
          "output_type": "execute_result",
          "data": {
            "text/plain": [
              "tensor([[ 1.1175, -0.5276,  0.2233],\n",
              "        [ 1.0066, -0.7048,  0.1397],\n",
              "        [ 1.9621, -0.6285,  0.4030]])"
            ]
          },
          "metadata": {},
          "execution_count": 18
        }
      ]
    },
    {
      "cell_type": "code",
      "source": [
        "# Does this equal PyTorch's scaled_dot_product_attention?\n",
        "output_pytorch = F.scaled_dot_product_attention(query=x,\n",
        "                                                key=x,\n",
        "                                                value=x)\n",
        "output_pytorch"
      ],
      "metadata": {
        "colab": {
          "base_uri": "https://localhost:8080/"
        },
        "id": "ESpNb90liTrw",
        "outputId": "66302c5d-1289-4117-9733-639aecbf6949"
      },
      "execution_count": 19,
      "outputs": [
        {
          "output_type": "execute_result",
          "data": {
            "text/plain": [
              "tensor([[ 1.1175, -0.5276,  0.2233],\n",
              "        [ 1.0066, -0.7048,  0.1397],\n",
              "        [ 1.9621, -0.6285,  0.4030]])"
            ]
          },
          "metadata": {},
          "execution_count": 19
        }
      ]
    },
    {
      "cell_type": "code",
      "source": [
        "# Should output true\n",
        "torch.all(output_pytorch.isclose(output_custom))"
      ],
      "metadata": {
        "colab": {
          "base_uri": "https://localhost:8080/"
        },
        "id": "KRLh4GQ9ihdk",
        "outputId": "f0c5af4a-48cd-4707-dee8-a0ce260f515d"
      },
      "execution_count": 20,
      "outputs": [
        {
          "output_type": "execute_result",
          "data": {
            "text/plain": [
              "tensor(True)"
            ]
          },
          "metadata": {},
          "execution_count": 20
        }
      ]
    },
    {
      "cell_type": "markdown",
      "source": [
        "## TODO: What is a query, key and value?\n",
        "\n",
        "* What if I told you you already know about the attention mechanism?... and your local cafe owner knows it very well\n",
        "\n",
        "* Give an example of different values input and output into our attention mechansim\n",
        "\n",
        "TK - Can I do sales of different products? Does this relate?\n",
        "\n",
        "E.g.\n",
        "* query = sales on monday\n",
        "* key = product\n",
        "* value = amount?\n",
        "\n",
        "Does this work??"
      ],
      "metadata": {
        "id": "0Kxahii5xJRv"
      }
    },
    {
      "cell_type": "code",
      "source": [
        "# TODO: finalize this and upload it to GitHub (if it works)\n",
        "!wget https://www.dropbox.com/s/8heqlnrpkf7tlbq/cafe_sales_data_csv.xlsx"
      ],
      "metadata": {
        "colab": {
          "base_uri": "https://localhost:8080/"
        },
        "id": "-VbBzoBOxLj_",
        "outputId": "0f0326b0-3fce-4731-9fc6-e96eb9406eea"
      },
      "execution_count": 49,
      "outputs": [
        {
          "output_type": "stream",
          "name": "stdout",
          "text": [
            "--2023-06-16 05:16:02--  https://www.dropbox.com/s/8heqlnrpkf7tlbq/cafe_sales_data_csv.xlsx\n",
            "Resolving www.dropbox.com (www.dropbox.com)... 162.125.5.18, 2620:100:601d:18::a27d:512\n",
            "Connecting to www.dropbox.com (www.dropbox.com)|162.125.5.18|:443... connected.\n",
            "HTTP request sent, awaiting response... 302 Found\n",
            "Location: /s/raw/8heqlnrpkf7tlbq/cafe_sales_data_csv.xlsx [following]\n",
            "--2023-06-16 05:16:02--  https://www.dropbox.com/s/raw/8heqlnrpkf7tlbq/cafe_sales_data_csv.xlsx\n",
            "Reusing existing connection to www.dropbox.com:443.\n",
            "HTTP request sent, awaiting response... 302 Found\n",
            "Location: https://uc7d6275bf4c172b6cd3fff26ffb.dl.dropboxusercontent.com/cd/0/inline/B-F50crI8YmW6RKI4NpITcOYY8DWTfu85QVRbiM-T3205oH2qCZ40Q3jvu0-g1SnGF0SLTc72zd-TctpCqNWIIFEu3OgsnyoZB4eCS2MfmEohZHHanK6W2bI6C2viUkLRPh_esrUfPxJZIj11HD4oBwdHRJTF735TuSBv6F3NPzVCg/file# [following]\n",
            "--2023-06-16 05:16:03--  https://uc7d6275bf4c172b6cd3fff26ffb.dl.dropboxusercontent.com/cd/0/inline/B-F50crI8YmW6RKI4NpITcOYY8DWTfu85QVRbiM-T3205oH2qCZ40Q3jvu0-g1SnGF0SLTc72zd-TctpCqNWIIFEu3OgsnyoZB4eCS2MfmEohZHHanK6W2bI6C2viUkLRPh_esrUfPxJZIj11HD4oBwdHRJTF735TuSBv6F3NPzVCg/file\n",
            "Resolving uc7d6275bf4c172b6cd3fff26ffb.dl.dropboxusercontent.com (uc7d6275bf4c172b6cd3fff26ffb.dl.dropboxusercontent.com)... 162.125.5.15, 2620:100:601d:15::a27d:50f\n",
            "Connecting to uc7d6275bf4c172b6cd3fff26ffb.dl.dropboxusercontent.com (uc7d6275bf4c172b6cd3fff26ffb.dl.dropboxusercontent.com)|162.125.5.15|:443... connected.\n",
            "HTTP request sent, awaiting response... 302 Found\n",
            "Location: /cd/0/inline2/B-GjE2kYewXKJq4c-kEv2vR-WhOW7ofMfqZKMvz6Se-OvlKXhvbkTtDSz0-QDvVMyAH-2OON93gExtkVJq-O4MUsTMdsvZPEoEZa-mgMMb94csqhRaJzp9YY8IAlo8-rB1_AMXJv1EByCLeOw3itshccOjQAjA2YWpYz1NcHpejFWhEex4OIiRLTkLyqA0pDiFqjr0NJurN47_q_-H_9P0P58kol9llrwAlxOWbadzMWTNYiuy7ki2Yd95jUNKH81zbPXSc5xiP0P-NN8N02Dk-9lE1EMkq0MCRvvrxGC9T4_KHTlEzZXMinNKGOfF7tsODhPtc8MfaZ5Ha_OwjiTpIiNgzcbeEhFqaBrHjWzx_F0TZAWvw6M2ydpdJICq-ifCzUvfvkuR0OVw6IL8JoF2926DN-kZyOSw5mOiyvauCx-w/file [following]\n",
            "--2023-06-16 05:16:03--  https://uc7d6275bf4c172b6cd3fff26ffb.dl.dropboxusercontent.com/cd/0/inline2/B-GjE2kYewXKJq4c-kEv2vR-WhOW7ofMfqZKMvz6Se-OvlKXhvbkTtDSz0-QDvVMyAH-2OON93gExtkVJq-O4MUsTMdsvZPEoEZa-mgMMb94csqhRaJzp9YY8IAlo8-rB1_AMXJv1EByCLeOw3itshccOjQAjA2YWpYz1NcHpejFWhEex4OIiRLTkLyqA0pDiFqjr0NJurN47_q_-H_9P0P58kol9llrwAlxOWbadzMWTNYiuy7ki2Yd95jUNKH81zbPXSc5xiP0P-NN8N02Dk-9lE1EMkq0MCRvvrxGC9T4_KHTlEzZXMinNKGOfF7tsODhPtc8MfaZ5Ha_OwjiTpIiNgzcbeEhFqaBrHjWzx_F0TZAWvw6M2ydpdJICq-ifCzUvfvkuR0OVw6IL8JoF2926DN-kZyOSw5mOiyvauCx-w/file\n",
            "Reusing existing connection to uc7d6275bf4c172b6cd3fff26ffb.dl.dropboxusercontent.com:443.\n",
            "HTTP request sent, awaiting response... 200 OK\n",
            "Length: 5101 (5.0K) [application/vnd.openxmlformats-officedocument.spreadsheetml.sheet]\n",
            "Saving to: ‘cafe_sales_data_csv.xlsx’\n",
            "\n",
            "cafe_sales_data_csv 100%[===================>]   4.98K  --.-KB/s    in 0s      \n",
            "\n",
            "2023-06-16 05:16:03 (470 MB/s) - ‘cafe_sales_data_csv.xlsx’ saved [5101/5101]\n",
            "\n"
          ]
        }
      ]
    },
    {
      "cell_type": "code",
      "source": [
        "import pandas as pd\n",
        "df = pd.read_excel(\"cafe_sales_data_csv.xlsx\") # TODO: read_excel with _csv in the filename is confusing...\n",
        "df"
      ],
      "metadata": {
        "colab": {
          "base_uri": "https://localhost:8080/",
          "height": 269
        },
        "id": "p-wiDpW9xgVo",
        "outputId": "274a15dc-e23a-4ff5-ead5-4c2a94d317c5"
      },
      "execution_count": 50,
      "outputs": [
        {
          "output_type": "execute_result",
          "data": {
            "text/plain": [
              "  Unnamed: 0  Monday  Tuesday  Wednesday  Thursday  Friday  Saturday  Sunday\n",
              "0     Coffee       0       50         55        68      91       107      84\n",
              "1      Bread       0       20         22        25      12        40      49\n",
              "2      Bacon       0       10         15        20      10        65      39\n",
              "3       Milk       0       15         15        18      16        51      45\n",
              "4      Bagel       0       21          8        20      60        56      44\n",
              "5   Sandwich       0        9          8        50      18        62      50\n",
              "6  Crossiant       0       11          4         3       7        49      55"
            ],
            "text/html": [
              "\n",
              "  <div id=\"df-e866bbc3-d32b-418f-b9aa-2817073adce8\">\n",
              "    <div class=\"colab-df-container\">\n",
              "      <div>\n",
              "<style scoped>\n",
              "    .dataframe tbody tr th:only-of-type {\n",
              "        vertical-align: middle;\n",
              "    }\n",
              "\n",
              "    .dataframe tbody tr th {\n",
              "        vertical-align: top;\n",
              "    }\n",
              "\n",
              "    .dataframe thead th {\n",
              "        text-align: right;\n",
              "    }\n",
              "</style>\n",
              "<table border=\"1\" class=\"dataframe\">\n",
              "  <thead>\n",
              "    <tr style=\"text-align: right;\">\n",
              "      <th></th>\n",
              "      <th>Unnamed: 0</th>\n",
              "      <th>Monday</th>\n",
              "      <th>Tuesday</th>\n",
              "      <th>Wednesday</th>\n",
              "      <th>Thursday</th>\n",
              "      <th>Friday</th>\n",
              "      <th>Saturday</th>\n",
              "      <th>Sunday</th>\n",
              "    </tr>\n",
              "  </thead>\n",
              "  <tbody>\n",
              "    <tr>\n",
              "      <th>0</th>\n",
              "      <td>Coffee</td>\n",
              "      <td>0</td>\n",
              "      <td>50</td>\n",
              "      <td>55</td>\n",
              "      <td>68</td>\n",
              "      <td>91</td>\n",
              "      <td>107</td>\n",
              "      <td>84</td>\n",
              "    </tr>\n",
              "    <tr>\n",
              "      <th>1</th>\n",
              "      <td>Bread</td>\n",
              "      <td>0</td>\n",
              "      <td>20</td>\n",
              "      <td>22</td>\n",
              "      <td>25</td>\n",
              "      <td>12</td>\n",
              "      <td>40</td>\n",
              "      <td>49</td>\n",
              "    </tr>\n",
              "    <tr>\n",
              "      <th>2</th>\n",
              "      <td>Bacon</td>\n",
              "      <td>0</td>\n",
              "      <td>10</td>\n",
              "      <td>15</td>\n",
              "      <td>20</td>\n",
              "      <td>10</td>\n",
              "      <td>65</td>\n",
              "      <td>39</td>\n",
              "    </tr>\n",
              "    <tr>\n",
              "      <th>3</th>\n",
              "      <td>Milk</td>\n",
              "      <td>0</td>\n",
              "      <td>15</td>\n",
              "      <td>15</td>\n",
              "      <td>18</td>\n",
              "      <td>16</td>\n",
              "      <td>51</td>\n",
              "      <td>45</td>\n",
              "    </tr>\n",
              "    <tr>\n",
              "      <th>4</th>\n",
              "      <td>Bagel</td>\n",
              "      <td>0</td>\n",
              "      <td>21</td>\n",
              "      <td>8</td>\n",
              "      <td>20</td>\n",
              "      <td>60</td>\n",
              "      <td>56</td>\n",
              "      <td>44</td>\n",
              "    </tr>\n",
              "    <tr>\n",
              "      <th>5</th>\n",
              "      <td>Sandwich</td>\n",
              "      <td>0</td>\n",
              "      <td>9</td>\n",
              "      <td>8</td>\n",
              "      <td>50</td>\n",
              "      <td>18</td>\n",
              "      <td>62</td>\n",
              "      <td>50</td>\n",
              "    </tr>\n",
              "    <tr>\n",
              "      <th>6</th>\n",
              "      <td>Crossiant</td>\n",
              "      <td>0</td>\n",
              "      <td>11</td>\n",
              "      <td>4</td>\n",
              "      <td>3</td>\n",
              "      <td>7</td>\n",
              "      <td>49</td>\n",
              "      <td>55</td>\n",
              "    </tr>\n",
              "  </tbody>\n",
              "</table>\n",
              "</div>\n",
              "      <button class=\"colab-df-convert\" onclick=\"convertToInteractive('df-e866bbc3-d32b-418f-b9aa-2817073adce8')\"\n",
              "              title=\"Convert this dataframe to an interactive table.\"\n",
              "              style=\"display:none;\">\n",
              "        \n",
              "  <svg xmlns=\"http://www.w3.org/2000/svg\" height=\"24px\"viewBox=\"0 0 24 24\"\n",
              "       width=\"24px\">\n",
              "    <path d=\"M0 0h24v24H0V0z\" fill=\"none\"/>\n",
              "    <path d=\"M18.56 5.44l.94 2.06.94-2.06 2.06-.94-2.06-.94-.94-2.06-.94 2.06-2.06.94zm-11 1L8.5 8.5l.94-2.06 2.06-.94-2.06-.94L8.5 2.5l-.94 2.06-2.06.94zm10 10l.94 2.06.94-2.06 2.06-.94-2.06-.94-.94-2.06-.94 2.06-2.06.94z\"/><path d=\"M17.41 7.96l-1.37-1.37c-.4-.4-.92-.59-1.43-.59-.52 0-1.04.2-1.43.59L10.3 9.45l-7.72 7.72c-.78.78-.78 2.05 0 2.83L4 21.41c.39.39.9.59 1.41.59.51 0 1.02-.2 1.41-.59l7.78-7.78 2.81-2.81c.8-.78.8-2.07 0-2.86zM5.41 20L4 18.59l7.72-7.72 1.47 1.35L5.41 20z\"/>\n",
              "  </svg>\n",
              "      </button>\n",
              "      \n",
              "  <style>\n",
              "    .colab-df-container {\n",
              "      display:flex;\n",
              "      flex-wrap:wrap;\n",
              "      gap: 12px;\n",
              "    }\n",
              "\n",
              "    .colab-df-convert {\n",
              "      background-color: #E8F0FE;\n",
              "      border: none;\n",
              "      border-radius: 50%;\n",
              "      cursor: pointer;\n",
              "      display: none;\n",
              "      fill: #1967D2;\n",
              "      height: 32px;\n",
              "      padding: 0 0 0 0;\n",
              "      width: 32px;\n",
              "    }\n",
              "\n",
              "    .colab-df-convert:hover {\n",
              "      background-color: #E2EBFA;\n",
              "      box-shadow: 0px 1px 2px rgba(60, 64, 67, 0.3), 0px 1px 3px 1px rgba(60, 64, 67, 0.15);\n",
              "      fill: #174EA6;\n",
              "    }\n",
              "\n",
              "    [theme=dark] .colab-df-convert {\n",
              "      background-color: #3B4455;\n",
              "      fill: #D2E3FC;\n",
              "    }\n",
              "\n",
              "    [theme=dark] .colab-df-convert:hover {\n",
              "      background-color: #434B5C;\n",
              "      box-shadow: 0px 1px 3px 1px rgba(0, 0, 0, 0.15);\n",
              "      filter: drop-shadow(0px 1px 2px rgba(0, 0, 0, 0.3));\n",
              "      fill: #FFFFFF;\n",
              "    }\n",
              "  </style>\n",
              "\n",
              "      <script>\n",
              "        const buttonEl =\n",
              "          document.querySelector('#df-e866bbc3-d32b-418f-b9aa-2817073adce8 button.colab-df-convert');\n",
              "        buttonEl.style.display =\n",
              "          google.colab.kernel.accessAllowed ? 'block' : 'none';\n",
              "\n",
              "        async function convertToInteractive(key) {\n",
              "          const element = document.querySelector('#df-e866bbc3-d32b-418f-b9aa-2817073adce8');\n",
              "          const dataTable =\n",
              "            await google.colab.kernel.invokeFunction('convertToInteractive',\n",
              "                                                     [key], {});\n",
              "          if (!dataTable) return;\n",
              "\n",
              "          const docLinkHtml = 'Like what you see? Visit the ' +\n",
              "            '<a target=\"_blank\" href=https://colab.research.google.com/notebooks/data_table.ipynb>data table notebook</a>'\n",
              "            + ' to learn more about interactive tables.';\n",
              "          element.innerHTML = '';\n",
              "          dataTable['output_type'] = 'display_data';\n",
              "          await google.colab.output.renderOutput(dataTable, element);\n",
              "          const docLink = document.createElement('div');\n",
              "          docLink.innerHTML = docLinkHtml;\n",
              "          element.appendChild(docLink);\n",
              "        }\n",
              "      </script>\n",
              "    </div>\n",
              "  </div>\n",
              "  "
            ]
          },
          "metadata": {},
          "execution_count": 50
        }
      ]
    },
    {
      "cell_type": "code",
      "source": [
        "# Create price vector\n",
        "price_dict = {\n",
        "    \"coffee\": 5,\n",
        "    \"bread\": 8,\n",
        "    \"bacon\": 15,\n",
        "    \"milk\": 4,\n",
        "    \"bagel\": 9,\n",
        "    \"sandwich\": 12,\n",
        "    \"croissant\": 8\n",
        "}\n",
        "price_vector = torch.tensor(list(price_dict.values()), dtype=torch.float32)\n",
        "price_vector"
      ],
      "metadata": {
        "colab": {
          "base_uri": "https://localhost:8080/"
        },
        "id": "6o-GJZj-zWsg",
        "outputId": "9386cb9c-20f5-4326-ef7b-750ba90df699"
      },
      "execution_count": 51,
      "outputs": [
        {
          "output_type": "execute_result",
          "data": {
            "text/plain": [
              "tensor([ 5.,  8., 15.,  4.,  9., 12.,  8.])"
            ]
          },
          "metadata": {},
          "execution_count": 51
        }
      ]
    },
    {
      "cell_type": "code",
      "source": [
        "# Create sales matrix\n",
        "sales_matrix = torch.tensor(df.drop(\"Unnamed: 0\", axis=1).values, dtype=torch.float32)\n",
        "sales_matrix"
      ],
      "metadata": {
        "colab": {
          "base_uri": "https://localhost:8080/"
        },
        "id": "xLZgRl5Dz51v",
        "outputId": "42f444b6-032d-46e0-b0a5-b5f6329470c7"
      },
      "execution_count": 57,
      "outputs": [
        {
          "output_type": "execute_result",
          "data": {
            "text/plain": [
              "tensor([[  0.,  50.,  55.,  68.,  91., 107.,  84.],\n",
              "        [  0.,  20.,  22.,  25.,  12.,  40.,  49.],\n",
              "        [  0.,  10.,  15.,  20.,  10.,  65.,  39.],\n",
              "        [  0.,  15.,  15.,  18.,  16.,  51.,  45.],\n",
              "        [  0.,  21.,   8.,  20.,  60.,  56.,  44.],\n",
              "        [  0.,   9.,   8.,  50.,  18.,  62.,  50.],\n",
              "        [  0.,  11.,   4.,   3.,   7.,  49.,  55.]])"
            ]
          },
          "metadata": {},
          "execution_count": 57
        }
      ]
    },
    {
      "cell_type": "code",
      "source": [
        "print(f\"Sales: {sales_matrix.shape} (seven products, seven days of week)\")\n",
        "print(f\"Prices: {price_vector.shape} (seven products)\")"
      ],
      "metadata": {
        "colab": {
          "base_uri": "https://localhost:8080/"
        },
        "id": "-S_HxbAn0dQ9",
        "outputId": "3cf435ff-cd9a-4f6d-d68f-03bd54ccab8e"
      },
      "execution_count": 54,
      "outputs": [
        {
          "output_type": "stream",
          "name": "stdout",
          "text": [
            "Sales: torch.Size([7, 7]) (seven products, seven days of week)\n",
            "Prices: torch.Size([7]) (seven products)\n"
          ]
        }
      ]
    },
    {
      "cell_type": "code",
      "source": [
        "# Find the sales per day\n",
        "price_vector.matmul(sales_matrix)"
      ],
      "metadata": {
        "colab": {
          "base_uri": "https://localhost:8080/"
        },
        "id": "n5FLeA5Z0HIa",
        "outputId": "32960b12-875f-4337-e9bc-2543163fac9e"
      },
      "execution_count": 90,
      "outputs": [
        {
          "output_type": "execute_result",
          "data": {
            "text/plain": [
              "tensor([   0., 1005.,  936., 1716., 1577., 3674., 3013.])"
            ]
          },
          "metadata": {},
          "execution_count": 90
        }
      ]
    },
    {
      "cell_type": "code",
      "source": [
        "price_vector.unsqueeze(1)"
      ],
      "metadata": {
        "colab": {
          "base_uri": "https://localhost:8080/"
        },
        "id": "JZtS_qvk8xDp",
        "outputId": "7dcf3669-15ba-4cad-f154-94b6aa7b7412"
      },
      "execution_count": 147,
      "outputs": [
        {
          "output_type": "execute_result",
          "data": {
            "text/plain": [
              "tensor([[ 5.],\n",
              "        [ 8.],\n",
              "        [15.],\n",
              "        [ 4.],\n",
              "        [ 9.],\n",
              "        [12.],\n",
              "        [ 8.]])"
            ]
          },
          "metadata": {},
          "execution_count": 147
        }
      ]
    },
    {
      "cell_type": "code",
      "source": [
        "price_vector"
      ],
      "metadata": {
        "colab": {
          "base_uri": "https://localhost:8080/"
        },
        "id": "Hx-vuk0P8zr2",
        "outputId": "2d61ae00-c0f8-4710-b07f-d6195f29e7b5"
      },
      "execution_count": 148,
      "outputs": [
        {
          "output_type": "execute_result",
          "data": {
            "text/plain": [
              "tensor([ 5.,  8., 15.,  4.,  9., 12.,  8.])"
            ]
          },
          "metadata": {},
          "execution_count": 148
        }
      ]
    },
    {
      "cell_type": "code",
      "source": [
        "# WRONG: Sales per item per day\n",
        "price_vector * sales_matrix"
      ],
      "metadata": {
        "colab": {
          "base_uri": "https://localhost:8080/"
        },
        "id": "kvmvVBmC809o",
        "outputId": "eb592a43-2b0d-4239-a4ad-5a88b474cdc3"
      },
      "execution_count": 149,
      "outputs": [
        {
          "output_type": "execute_result",
          "data": {
            "text/plain": [
              "tensor([[   0.,  400.,  825.,  272.,  819., 1284.,  672.],\n",
              "        [   0.,  160.,  330.,  100.,  108.,  480.,  392.],\n",
              "        [   0.,   80.,  225.,   80.,   90.,  780.,  312.],\n",
              "        [   0.,  120.,  225.,   72.,  144.,  612.,  360.],\n",
              "        [   0.,  168.,  120.,   80.,  540.,  672.,  352.],\n",
              "        [   0.,   72.,  120.,  200.,  162.,  744.,  400.],\n",
              "        [   0.,   88.,   60.,   12.,   63.,  588.,  440.]])"
            ]
          },
          "metadata": {},
          "execution_count": 149
        }
      ]
    },
    {
      "cell_type": "code",
      "source": [
        "# CORRECT: Manipulate price vector before multiplying to sales matrix\n",
        "price_vector.unsqueeze(1) * sales_matrix"
      ],
      "metadata": {
        "colab": {
          "base_uri": "https://localhost:8080/"
        },
        "id": "YBhJxz2I8k6v",
        "outputId": "3824303f-bb7f-4376-a7c6-a89f80a7fa57"
      },
      "execution_count": 146,
      "outputs": [
        {
          "output_type": "execute_result",
          "data": {
            "text/plain": [
              "tensor([[  0., 250., 275., 340., 455., 535., 420.],\n",
              "        [  0., 160., 176., 200.,  96., 320., 392.],\n",
              "        [  0., 150., 225., 300., 150., 975., 585.],\n",
              "        [  0.,  60.,  60.,  72.,  64., 204., 180.],\n",
              "        [  0., 189.,  72., 180., 540., 504., 396.],\n",
              "        [  0., 108.,  96., 600., 216., 744., 600.],\n",
              "        [  0.,  88.,  32.,  24.,  56., 392., 440.]])"
            ]
          },
          "metadata": {},
          "execution_count": 146
        }
      ]
    },
    {
      "cell_type": "code",
      "source": [
        "# TK note:\n",
        "# matmul = sum over dim=0 -> item sales per day\n",
        "# manual setup = sum over dim=1 -> item sales per week\n",
        "total_item_sales_per_week = torch.sum(price_vector.unsqueeze(1) * sales_matrix, dim=1)\n",
        "total_item_sales_per_week"
      ],
      "metadata": {
        "colab": {
          "base_uri": "https://localhost:8080/"
        },
        "id": "kVAyGUxf1Gjh",
        "outputId": "9206be19-a097-419b-f484-09752a2f3cc0"
      },
      "execution_count": 157,
      "outputs": [
        {
          "output_type": "execute_result",
          "data": {
            "text/plain": [
              "tensor([2275., 1344., 2385.,  640., 1881., 2364., 1032.])"
            ]
          },
          "metadata": {},
          "execution_count": 157
        }
      ]
    },
    {
      "cell_type": "code",
      "source": [
        "total_sales_per_day = torch.sum(price_vector.unsqueeze(1) * sales_matrix, dim=0)\n",
        "total_sales_per_day"
      ],
      "metadata": {
        "colab": {
          "base_uri": "https://localhost:8080/"
        },
        "id": "ycUpMtzo3rM2",
        "outputId": "a8cdd0a8-2ce2-4a19-b1e0-a6132513d18a"
      },
      "execution_count": 162,
      "outputs": [
        {
          "output_type": "execute_result",
          "data": {
            "text/plain": [
              "tensor([   0., 1005.,  936., 1716., 1577., 3674., 3013.])"
            ]
          },
          "metadata": {},
          "execution_count": 162
        }
      ]
    },
    {
      "cell_type": "code",
      "source": [
        "# TODO: try einsum? or einops?"
      ],
      "metadata": {
        "id": "nkDxDRjy_ZXx"
      },
      "execution_count": 167,
      "outputs": []
    },
    {
      "cell_type": "code",
      "source": [],
      "metadata": {
        "id": "YL5oCz54_Usa"
      },
      "execution_count": null,
      "outputs": []
    },
    {
      "cell_type": "markdown",
      "source": [
        "TK - try create an example for attention"
      ],
      "metadata": {
        "id": "lA8p_lGV6H6t"
      }
    },
    {
      "cell_type": "code",
      "source": [
        "# Create a query (\"What are the sales on Wednesday?\")\n",
        "sales_on_wednesday_vector = torch.zeros(7) # days of week\n",
        "sales_on_wednesday_vector[2] = 1\n",
        "sales_on_wednesday_vector"
      ],
      "metadata": {
        "colab": {
          "base_uri": "https://localhost:8080/"
        },
        "id": "SriEVG8E7B0I",
        "outputId": "ab758ffb-81ff-4dd2-8697-b143004f833f"
      },
      "execution_count": null,
      "outputs": [
        {
          "output_type": "execute_result",
          "data": {
            "text/plain": [
              "tensor([0., 0., 1., 0., 0., 0., 0.])"
            ]
          },
          "metadata": {},
          "execution_count": 19
        }
      ]
    },
    {
      "cell_type": "code",
      "source": [
        "# Compare the sales matrix (key) to the query (Q * K.T)\n",
        "wednesday_sales = sales_on_wednesday_vector.matmul(sales_matrix.T)\n",
        "wednesday_sales"
      ],
      "metadata": {
        "colab": {
          "base_uri": "https://localhost:8080/"
        },
        "id": "SO50157P7Bu2",
        "outputId": "fcb3091c-823b-4ab7-bb0f-09a0a82e7270"
      },
      "execution_count": null,
      "outputs": [
        {
          "output_type": "execute_result",
          "data": {
            "text/plain": [
              "tensor([55., 22., 15., 15.,  8.,  8.,  4.])"
            ]
          },
          "metadata": {},
          "execution_count": 20
        }
      ]
    },
    {
      "cell_type": "markdown",
      "source": [
        "Why scale?\n",
        "\n",
        "Watch this... softmax blows it out of the water..."
      ],
      "metadata": {
        "id": "kLGf-DMcByHS"
      }
    },
    {
      "cell_type": "code",
      "source": [
        "F.softmax(wednesday_sales, dim=0)"
      ],
      "metadata": {
        "colab": {
          "base_uri": "https://localhost:8080/"
        },
        "id": "r1pLOP90Bp0T",
        "outputId": "1c534157-25e5-4a1a-f666-efaa5fd74882"
      },
      "execution_count": null,
      "outputs": [
        {
          "output_type": "execute_result",
          "data": {
            "text/plain": [
              "tensor([1.0000e+00, 4.6589e-15, 4.2484e-18, 4.2484e-18, 3.8740e-21, 3.8740e-21,\n",
              "        7.0955e-23])"
            ]
          },
          "metadata": {},
          "execution_count": 21
        }
      ]
    },
    {
      "cell_type": "markdown",
      "source": [
        "Now scale..."
      ],
      "metadata": {
        "id": "yEgKwEOsB2MN"
      }
    },
    {
      "cell_type": "code",
      "source": [
        "wednesday_sales.shape"
      ],
      "metadata": {
        "colab": {
          "base_uri": "https://localhost:8080/"
        },
        "id": "taUwRq-BB-ew",
        "outputId": "8ba321ca-d869-4983-d25a-0d55c7837212"
      },
      "execution_count": null,
      "outputs": [
        {
          "output_type": "execute_result",
          "data": {
            "text/plain": [
              "torch.Size([7])"
            ]
          },
          "metadata": {},
          "execution_count": 22
        }
      ]
    },
    {
      "cell_type": "code",
      "source": [
        "F.softmax(wednesday_sales / torch.sqrt(torch.tensor(wednesday_sales.shape[0])), dim=0)"
      ],
      "metadata": {
        "colab": {
          "base_uri": "https://localhost:8080/"
        },
        "id": "YIYjdkbcB19e",
        "outputId": "ead5563a-afad-4d23-8efb-025af88c65e4"
      },
      "execution_count": null,
      "outputs": [
        {
          "output_type": "execute_result",
          "data": {
            "text/plain": [
              "tensor([1.0000e+00, 3.8293e-06, 2.7170e-07, 2.7170e-07, 1.9277e-08, 1.9277e-08,\n",
              "        4.2507e-09])"
            ]
          },
          "metadata": {},
          "execution_count": 23
        }
      ]
    },
    {
      "cell_type": "markdown",
      "source": [
        "Still blown out of the water but better... (could normalize these values first)\n",
        "\n",
        "e.g.\n",
        "\n",
        "```python\n",
        "norm_tensor = (x - torch.min(x))/(torch.max(x) - torch.min(x))\n",
        "```"
      ],
      "metadata": {
        "id": "RTsvFYZKCVGP"
      }
    },
    {
      "cell_type": "code",
      "source": [
        "F.softmax(wednesday_sales / torch.sqrt(torch.tensor(wednesday_sales.shape[0])), dim=0) @ price_vector"
      ],
      "metadata": {
        "colab": {
          "base_uri": "https://localhost:8080/"
        },
        "id": "zu04zf4YCM9t",
        "outputId": "aea230d2-adaf-45b1-dbb2-07ae972582bb"
      },
      "execution_count": null,
      "outputs": [
        {
          "output_type": "execute_result",
          "data": {
            "text/plain": [
              "tensor(5.0000)"
            ]
          },
          "metadata": {},
          "execution_count": 145
        }
      ]
    },
    {
      "cell_type": "code",
      "source": [
        "# Total sales on Wednesday\n",
        "attention_to_pay_on_wednesdays = wednesday_sales @ price_vector # price_vector = value\n",
        "attention_to_pay_on_wednesdays"
      ],
      "metadata": {
        "colab": {
          "base_uri": "https://localhost:8080/"
        },
        "id": "nuEgA-T46ed1",
        "outputId": "8af10907-538b-47f7-d7a1-721db3fc3c3f"
      },
      "execution_count": null,
      "outputs": [
        {
          "output_type": "execute_result",
          "data": {
            "text/plain": [
              "tensor(936.)"
            ]
          },
          "metadata": {},
          "execution_count": 133
        }
      ]
    },
    {
      "cell_type": "markdown",
      "source": [
        "### TODO: Try normalizing values\n",
        "\n",
        "See:"
      ],
      "metadata": {
        "id": "y-Ca0y5UsAEi"
      }
    },
    {
      "cell_type": "code",
      "source": [
        "# NEXT:\n",
        "# Try normalizing the tensor values and see how they change/improve stability\n",
        "# Softmax on values with large differences = blows larger values out of the water (e.g. 1.0 vs 1e-10... basically nothing)"
      ],
      "metadata": {
        "id": "kuowdQTzDiAN"
      },
      "execution_count": null,
      "outputs": []
    },
    {
      "cell_type": "code",
      "source": [
        "from sklearn.preprocessing import MinMaxScaler\n",
        "min_max = MinMaxScaler()\n",
        "sales_matrix_normalized = min_max.fit(sales_matrix).transform(sales_matrix)\n",
        "sales_matrix_normalized"
      ],
      "metadata": {
        "colab": {
          "base_uri": "https://localhost:8080/"
        },
        "id": "6_5LMpFwsjIK",
        "outputId": "3a40945b-1a28-41e1-c8f1-f2961fdb49f3"
      },
      "execution_count": null,
      "outputs": [
        {
          "output_type": "execute_result",
          "data": {
            "text/plain": [
              "array([[0.        , 1.        , 1.        , 1.        , 1.        ,\n",
              "        1.        , 1.        ],\n",
              "       [0.        , 0.26829268, 0.35294118, 0.33846154, 0.05952381,\n",
              "        0.        , 0.22222222],\n",
              "       [0.        , 0.02439024, 0.21568627, 0.26153846, 0.03571429,\n",
              "        0.37313433, 0.        ],\n",
              "       [0.        , 0.14634146, 0.21568627, 0.23076923, 0.10714286,\n",
              "        0.1641791 , 0.13333333],\n",
              "       [0.        , 0.29268293, 0.07843137, 0.26153846, 0.63095238,\n",
              "        0.23880597, 0.11111111],\n",
              "       [0.        , 0.        , 0.07843137, 0.72307692, 0.13095238,\n",
              "        0.32835821, 0.24444444],\n",
              "       [0.        , 0.04878049, 0.        , 0.        , 0.        ,\n",
              "        0.13432836, 0.35555556]])"
            ]
          },
          "metadata": {},
          "execution_count": 29
        }
      ]
    },
    {
      "cell_type": "code",
      "source": [
        "def min_max_normalize_tensor(x):\n",
        "  \"\"\"\n",
        "  See: https://en.wikipedia.org/wiki/Feature_scaling#Rescaling_(min-max_normalization)\n",
        "  \"\"\"\n",
        "\n",
        "  return (x - torch.min(x)) / (torch.max(x) - torch.min(x))"
      ],
      "metadata": {
        "id": "y2trYpZ2sC5I"
      },
      "execution_count": null,
      "outputs": []
    },
    {
      "cell_type": "code",
      "source": [
        "price_vector"
      ],
      "metadata": {
        "colab": {
          "base_uri": "https://localhost:8080/"
        },
        "id": "bxx7LY51tHyK",
        "outputId": "7b69ff6a-d3c9-4666-f98f-de65e8049284"
      },
      "execution_count": null,
      "outputs": [
        {
          "output_type": "execute_result",
          "data": {
            "text/plain": [
              "tensor([ 5.,  8., 15.,  4.,  9., 12.,  8.])"
            ]
          },
          "metadata": {},
          "execution_count": 35
        }
      ]
    },
    {
      "cell_type": "code",
      "source": [
        "sales_matrix_normalized = min_max_normalize_tensor(sales_matrix)\n",
        "price_vector_normalized = min_max_normalize_tensor(price_vector)\n",
        "sales_matrix_normalized, price_vector_normalized"
      ],
      "metadata": {
        "colab": {
          "base_uri": "https://localhost:8080/"
        },
        "id": "mdyBFi9LsODb",
        "outputId": "6a1be11b-fc63-402c-d443-35a760ad4c4c"
      },
      "execution_count": null,
      "outputs": [
        {
          "output_type": "execute_result",
          "data": {
            "text/plain": [
              "(tensor([[0.0000, 0.4673, 0.5140, 0.6355, 0.8505, 1.0000, 0.7850],\n",
              "         [0.0000, 0.1869, 0.2056, 0.2336, 0.1121, 0.3738, 0.4579],\n",
              "         [0.0000, 0.0935, 0.1402, 0.1869, 0.0935, 0.6075, 0.3645],\n",
              "         [0.0000, 0.1402, 0.1402, 0.1682, 0.1495, 0.4766, 0.4206],\n",
              "         [0.0000, 0.1963, 0.0748, 0.1869, 0.5607, 0.5234, 0.4112],\n",
              "         [0.0000, 0.0841, 0.0748, 0.4673, 0.1682, 0.5794, 0.4673],\n",
              "         [0.0000, 0.1028, 0.0374, 0.0280, 0.0654, 0.4579, 0.5140]]),\n",
              " tensor([0.0909, 0.3636, 1.0000, 0.0000, 0.4545, 0.7273, 0.3636]))"
            ]
          },
          "metadata": {},
          "execution_count": 33
        }
      ]
    },
    {
      "cell_type": "markdown",
      "source": [
        "### TODO: Try standardizing\n",
        "\n",
        "See: https://en.wikipedia.org/wiki/Feature_scaling#Standardization_(Z-score_Normalization)"
      ],
      "metadata": {
        "id": "4aWRusXYvd57"
      }
    },
    {
      "cell_type": "code",
      "source": [
        "torch.std(x, dim=0)"
      ],
      "metadata": {
        "colab": {
          "base_uri": "https://localhost:8080/"
        },
        "id": "VTRH-apNwvjA",
        "outputId": "75cbec38-acfc-4abe-9c9d-222dea75e6bf"
      },
      "execution_count": null,
      "outputs": [
        {
          "output_type": "execute_result",
          "data": {
            "text/plain": [
              "tensor([0.9268, 1.0037, 0.8458, 1.2510, 0.9081, 1.0602, 1.2140, 0.7745, 0.7807,\n",
              "        0.7785])"
            ]
          },
          "metadata": {},
          "execution_count": 44
        }
      ]
    },
    {
      "cell_type": "code",
      "source": [
        "def standardize_tensor(x):\n",
        "  \"\"\"\n",
        "  See: https://en.wikipedia.org/wiki/Feature_scaling#Standardization_(Z-score_Normalization)\n",
        "  \"\"\"\n",
        "  return (x - torch.mean(x)) / torch.std(x)"
      ],
      "metadata": {
        "id": "fZRKiDpAtc-x"
      },
      "execution_count": null,
      "outputs": []
    },
    {
      "cell_type": "code",
      "source": [
        "sales_matrix_standardized = standardize_tensor(sales_matrix)\n",
        "price_vector_standardized = standardize_tensor(price_vector)\n",
        "price_vector_standardized"
      ],
      "metadata": {
        "colab": {
          "base_uri": "https://localhost:8080/"
        },
        "id": "dTez0hPFtu8W",
        "outputId": "6c2845fb-4ec1-454b-ef68-f9f34dba05ce"
      },
      "execution_count": null,
      "outputs": [
        {
          "output_type": "execute_result",
          "data": {
            "text/plain": [
              "tensor([-0.9730, -0.1871,  1.6467, -1.2350,  0.0748,  0.8608, -0.1871])"
            ]
          },
          "metadata": {},
          "execution_count": 49
        }
      ]
    },
    {
      "cell_type": "code",
      "source": [
        "price_vector"
      ],
      "metadata": {
        "colab": {
          "base_uri": "https://localhost:8080/"
        },
        "id": "mITQQ6hxvlIa",
        "outputId": "2ab37fe9-cb5f-48c1-d83a-3e06f90d4c06"
      },
      "execution_count": null,
      "outputs": [
        {
          "output_type": "execute_result",
          "data": {
            "text/plain": [
              "tensor([ 5.,  8., 15.,  4.,  9., 12.,  8.])"
            ]
          },
          "metadata": {},
          "execution_count": 39
        }
      ]
    },
    {
      "cell_type": "code",
      "source": [
        "# Create a query (\"What are the sales on Wednesday?\")\n",
        "sales_on_wednesday_vector = torch.zeros(7) # days of week\n",
        "sales_on_wednesday_vector[2] = 1\n",
        "sales_on_wednesday_vector"
      ],
      "metadata": {
        "colab": {
          "base_uri": "https://localhost:8080/"
        },
        "id": "U_oOeaPmwA6_",
        "outputId": "28c0b7c6-f0f4-4f9c-b002-bac33a32b367"
      },
      "execution_count": null,
      "outputs": [
        {
          "output_type": "execute_result",
          "data": {
            "text/plain": [
              "tensor([0., 0., 1., 0., 0., 0., 0.])"
            ]
          },
          "metadata": {},
          "execution_count": 56
        }
      ]
    },
    {
      "cell_type": "code",
      "source": [
        "sales_matrix_standardized"
      ],
      "metadata": {
        "colab": {
          "base_uri": "https://localhost:8080/"
        },
        "id": "t4E_ws9XxoDV",
        "outputId": "d2532fe3-a213-4af5-cf27-fd41c2c1135f"
      },
      "execution_count": null,
      "outputs": [
        {
          "output_type": "execute_result",
          "data": {
            "text/plain": [
              "tensor([[-1.1194,  0.7374,  0.9231,  1.4059,  2.2600,  2.8542,  2.0000],\n",
              "        [-1.1194, -0.3767, -0.3024, -0.1910, -0.6738,  0.3661,  0.7003],\n",
              "        [-1.1194, -0.7480, -0.5623, -0.3767, -0.7480,  1.2945,  0.3289],\n",
              "        [-1.1194, -0.5623, -0.5623, -0.4509, -0.5252,  0.7745,  0.5517],\n",
              "        [-1.1194, -0.3395, -0.8223, -0.3767,  1.1088,  0.9602,  0.5146],\n",
              "        [-1.1194, -0.7852, -0.8223,  0.7374, -0.4509,  1.1830,  0.7374],\n",
              "        [-1.1194, -0.7109, -0.9708, -1.0080, -0.8594,  0.7003,  0.9231]])"
            ]
          },
          "metadata": {},
          "execution_count": 58
        }
      ]
    },
    {
      "cell_type": "code",
      "source": [
        "F.softmax(sales_on_wednesday_vector.unsqueeze(0).matmul(sales_matrix_standardized.T)/7, dim=1) @ price_vector_standardized"
      ],
      "metadata": {
        "colab": {
          "base_uri": "https://localhost:8080/"
        },
        "id": "yKPYq8Ct1u7v",
        "outputId": "0247ba17-9c55-42e8-9f03-633e926e2146"
      },
      "execution_count": null,
      "outputs": [
        {
          "output_type": "execute_result",
          "data": {
            "text/plain": [
              "tensor([-0.0365])"
            ]
          },
          "metadata": {},
          "execution_count": 91
        }
      ]
    },
    {
      "cell_type": "code",
      "source": [
        "F.softmax(sales_on_wednesday_vector.unsqueeze(0).matmul(sales_matrix.T)/7, dim=1) @ price_vector"
      ],
      "metadata": {
        "colab": {
          "base_uri": "https://localhost:8080/"
        },
        "id": "dl1v3T_T2LhR",
        "outputId": "c2d566b6-5dd3-45fc-a48e-c0f6fac15922"
      },
      "execution_count": null,
      "outputs": [
        {
          "output_type": "execute_result",
          "data": {
            "text/plain": [
              "tensor([5.0707])"
            ]
          },
          "metadata": {},
          "execution_count": 93
        }
      ]
    },
    {
      "cell_type": "code",
      "source": [
        "sales_on_monday = torch.zeros(7)\n",
        "sales_on_monday[0] = 1\n",
        "print(sales_on_monday)\n",
        "F.softmax(sales_on_monday.unsqueeze(0).matmul(sales_matrix.T)/7, dim=1) @ price_vector"
      ],
      "metadata": {
        "colab": {
          "base_uri": "https://localhost:8080/"
        },
        "id": "A_jXH4cR2VFu",
        "outputId": "cbb6a70b-6f39-4d95-95d7-abebce73ea67"
      },
      "execution_count": null,
      "outputs": [
        {
          "output_type": "stream",
          "name": "stdout",
          "text": [
            "tensor([0., 0., 0., 0., 0., 0., 1.])\n"
          ]
        },
        {
          "output_type": "execute_result",
          "data": {
            "text/plain": [
              "tensor([5.1422])"
            ]
          },
          "metadata": {},
          "execution_count": 113
        }
      ]
    },
    {
      "cell_type": "code",
      "source": [
        "# Non-standardize"
      ],
      "metadata": {
        "id": "nvka9Z5y3kej"
      },
      "execution_count": null,
      "outputs": []
    },
    {
      "cell_type": "code",
      "source": [
        "sales_on_monday = torch.zeros(7)\n",
        "sales_on_monday[5] = 1\n",
        "print(sales_on_monday)\n",
        "F.softmax(sales_on_monday.unsqueeze(0).matmul(sales_matrix_standardized.T)/7, dim=1) @ price_vector_standardized"
      ],
      "metadata": {
        "colab": {
          "base_uri": "https://localhost:8080/"
        },
        "id": "ugNTSb3y3R_A",
        "outputId": "463210f0-3c91-4eb0-a928-9505afc11dff"
      },
      "execution_count": null,
      "outputs": [
        {
          "output_type": "stream",
          "name": "stdout",
          "text": [
            "tensor([0., 0., 0., 0., 0., 1., 0.])\n"
          ]
        },
        {
          "output_type": "execute_result",
          "data": {
            "text/plain": [
              "tensor([-0.0193])"
            ]
          },
          "metadata": {},
          "execution_count": 123
        }
      ]
    },
    {
      "cell_type": "code",
      "source": [
        "day_names = [\"Monday\", \"Tuesday\", \"Wednesday\", \"Thursday\", \"Friday\", \"Saturday\", \"Sunday\"]\n",
        "day_values = range(0, 7)\n",
        "day_dict = dict(zip(day_values, day_names))\n",
        "day_dict"
      ],
      "metadata": {
        "colab": {
          "base_uri": "https://localhost:8080/"
        },
        "id": "kHIuE8LG3-gB",
        "outputId": "f81f4c0f-72c2-449c-a767-d532d8df976d"
      },
      "execution_count": null,
      "outputs": [
        {
          "output_type": "execute_result",
          "data": {
            "text/plain": [
              "{0: 'Monday',\n",
              " 1: 'Tuesday',\n",
              " 2: 'Wednesday',\n",
              " 3: 'Thursday',\n",
              " 4: 'Friday',\n",
              " 5: 'Saturday',\n",
              " 6: 'Sunday'}"
            ]
          },
          "metadata": {},
          "execution_count": 131
        }
      ]
    },
    {
      "cell_type": "code",
      "source": [
        "# Non-standardize\n",
        "for i in range(7):\n",
        "  day_tensor = torch.zeros(7)\n",
        "  day_tensor[i] = 1\n",
        "  day_name = day_dict[i]\n",
        "\n",
        "  print(f\"\\nDay name: {day_name}\")\n",
        "  print(f\"Day tensor: {day_tensor}\")\n",
        "  # day_tensor_standardize = standardize_tensor(day_tensor)\n",
        "  d_k = day_tensor.shape[-1]\n",
        "  print(d_k)\n",
        "  attn_score = F.softmax(day_tensor.unsqueeze(1).matmul(sales_matrix.T)/torch.sqrt(torch.tensor(7)), dim=1) @ price_vector\n",
        "  print(f\"Attention score: {attn_score}\")"
      ],
      "metadata": {
        "colab": {
          "base_uri": "https://localhost:8080/",
          "height": 294
        },
        "id": "lOffwA9T5KAl",
        "outputId": "63653e2d-d298-4f73-84af-1a8687917ef0"
      },
      "execution_count": null,
      "outputs": [
        {
          "output_type": "stream",
          "name": "stdout",
          "text": [
            "\n",
            "Day name: Monday\n",
            "Day tensor: tensor([1., 0., 0., 0., 0., 0., 0.])\n",
            "7\n"
          ]
        },
        {
          "output_type": "error",
          "ename": "RuntimeError",
          "evalue": "ignored",
          "traceback": [
            "\u001b[0;31m---------------------------------------------------------------------------\u001b[0m",
            "\u001b[0;31mRuntimeError\u001b[0m                              Traceback (most recent call last)",
            "\u001b[0;32m<ipython-input-168-b4ad1a2c8a36>\u001b[0m in \u001b[0;36m<cell line: 2>\u001b[0;34m()\u001b[0m\n\u001b[1;32m     10\u001b[0m   \u001b[0md_k\u001b[0m \u001b[0;34m=\u001b[0m \u001b[0mday_tensor\u001b[0m\u001b[0;34m.\u001b[0m\u001b[0mshape\u001b[0m\u001b[0;34m[\u001b[0m\u001b[0;34m-\u001b[0m\u001b[0;36m1\u001b[0m\u001b[0;34m]\u001b[0m\u001b[0;34m\u001b[0m\u001b[0;34m\u001b[0m\u001b[0m\n\u001b[1;32m     11\u001b[0m   \u001b[0mprint\u001b[0m\u001b[0;34m(\u001b[0m\u001b[0md_k\u001b[0m\u001b[0;34m)\u001b[0m\u001b[0;34m\u001b[0m\u001b[0;34m\u001b[0m\u001b[0m\n\u001b[0;32m---> 12\u001b[0;31m   \u001b[0mattn_score\u001b[0m \u001b[0;34m=\u001b[0m \u001b[0mF\u001b[0m\u001b[0;34m.\u001b[0m\u001b[0msoftmax\u001b[0m\u001b[0;34m(\u001b[0m\u001b[0mday_tensor\u001b[0m\u001b[0;34m.\u001b[0m\u001b[0munsqueeze\u001b[0m\u001b[0;34m(\u001b[0m\u001b[0;36m1\u001b[0m\u001b[0;34m)\u001b[0m\u001b[0;34m.\u001b[0m\u001b[0mmatmul\u001b[0m\u001b[0;34m(\u001b[0m\u001b[0msales_matrix\u001b[0m\u001b[0;34m.\u001b[0m\u001b[0mT\u001b[0m\u001b[0;34m)\u001b[0m\u001b[0;34m/\u001b[0m\u001b[0mtorch\u001b[0m\u001b[0;34m.\u001b[0m\u001b[0msqrt\u001b[0m\u001b[0;34m(\u001b[0m\u001b[0mtorch\u001b[0m\u001b[0;34m.\u001b[0m\u001b[0mtensor\u001b[0m\u001b[0;34m(\u001b[0m\u001b[0;36m7\u001b[0m\u001b[0;34m)\u001b[0m\u001b[0;34m)\u001b[0m\u001b[0;34m,\u001b[0m \u001b[0mdim\u001b[0m\u001b[0;34m=\u001b[0m\u001b[0;36m1\u001b[0m\u001b[0;34m)\u001b[0m \u001b[0;34m@\u001b[0m \u001b[0mprice_vector\u001b[0m\u001b[0;34m\u001b[0m\u001b[0;34m\u001b[0m\u001b[0m\n\u001b[0m\u001b[1;32m     13\u001b[0m   \u001b[0mprint\u001b[0m\u001b[0;34m(\u001b[0m\u001b[0;34mf\"Attention score: {attn_score}\"\u001b[0m\u001b[0;34m)\u001b[0m\u001b[0;34m\u001b[0m\u001b[0;34m\u001b[0m\u001b[0m\n",
            "\u001b[0;31mRuntimeError\u001b[0m: mat1 and mat2 shapes cannot be multiplied (7x1 and 7x7)"
          ]
        }
      ]
    },
    {
      "cell_type": "code",
      "source": [
        "# Standardize\n",
        "# TODO: does this work for the triangle matrix?\n",
        "# e.g. triangle down the left to bottom right corner\n",
        "for i in range(7):\n",
        "  day_tensor = torch.zeros(7)\n",
        "  day_tensor[i] = 1\n",
        "  day_name = day_dict[i]\n",
        "\n",
        "  print(f\"\\nDay name: {day_name}\")\n",
        "  print(f\"Day tensor: {day_tensor}\")\n",
        "  day_tensor_standardize = standardize_tensor(day_tensor)\n",
        "  attn_score = F.softmax(day_tensor_standardize.unsqueeze(0).matmul(sales_matrix_standardized.T)/torch.sqrt(torch.tensor(7)), dim=1) @ price_vector_standardized\n",
        "  print(f\"Attention score: {attn_score}\")"
      ],
      "metadata": {
        "colab": {
          "base_uri": "https://localhost:8080/"
        },
        "id": "T_NZHBaP3yrT",
        "outputId": "8d74ab13-e5c6-4ec3-c137-33a23d880ea2"
      },
      "execution_count": null,
      "outputs": [
        {
          "output_type": "stream",
          "name": "stdout",
          "text": [
            "\n",
            "Day name: Monday\n",
            "Day tensor: tensor([1., 0., 0., 0., 0., 0., 0.])\n",
            "Attention score: tensor([0.0979])\n",
            "\n",
            "Day name: Tuesday\n",
            "Day tensor: tensor([0., 1., 0., 0., 0., 0., 0.])\n",
            "Attention score: tensor([-0.0585])\n",
            "\n",
            "Day name: Wednesday\n",
            "Day tensor: tensor([0., 0., 1., 0., 0., 0., 0.])\n",
            "Attention score: tensor([-0.0432])\n",
            "\n",
            "Day name: Thursday\n",
            "Day tensor: tensor([0., 0., 0., 1., 0., 0., 0.])\n",
            "Attention score: tensor([0.1432])\n",
            "\n",
            "Day name: Friday\n",
            "Day tensor: tensor([0., 0., 0., 0., 1., 0., 0.])\n",
            "Attention score: tensor([-0.2104])\n",
            "\n",
            "Day name: Saturday\n",
            "Day tensor: tensor([0., 0., 0., 0., 0., 1., 0.])\n",
            "Attention score: tensor([0.0885])\n",
            "\n",
            "Day name: Sunday\n",
            "Day tensor: tensor([0., 0., 0., 0., 0., 0., 1.])\n",
            "Attention score: tensor([-0.0547])\n"
          ]
        }
      ]
    },
    {
      "cell_type": "code",
      "source": [
        "all_days = torch.eye(7)\n",
        "\n",
        "attention(query=all_days,\n",
        "          key=sales_matrix,\n",
        "          value=price_vector)"
      ],
      "metadata": {
        "colab": {
          "base_uri": "https://localhost:8080/"
        },
        "id": "trRr4ecr5wWM",
        "outputId": "50ae9405-9e9c-4cef-e734-a732671f5c4f"
      },
      "execution_count": null,
      "outputs": [
        {
          "output_type": "stream",
          "name": "stdout",
          "text": [
            "torch.Size([7, 7])\n"
          ]
        },
        {
          "output_type": "execute_result",
          "data": {
            "text/plain": [
              "tensor([8.7143, 5.0001, 5.0000, 5.0078, 5.0000, 5.0000, 5.0001])"
            ]
          },
          "metadata": {},
          "execution_count": 144
        }
      ]
    },
    {
      "cell_type": "code",
      "source": [
        "all_days = torch.eye(7)\n",
        "all_days_standardized = standardize_tensor(all_days)\n",
        "\n",
        "attention(query=all_days_standardized,\n",
        "          key=sales_matrix_standardized,\n",
        "          value=price_vector_standardized.unsqueeze(1))"
      ],
      "metadata": {
        "colab": {
          "base_uri": "https://localhost:8080/"
        },
        "id": "rkCmpcUU59Us",
        "outputId": "d16f363c-ec12-4c1e-fbd5-2a5db1c50025"
      },
      "execution_count": null,
      "outputs": [
        {
          "output_type": "stream",
          "name": "stdout",
          "text": [
            "torch.Size([7, 7])\n"
          ]
        },
        {
          "output_type": "execute_result",
          "data": {
            "text/plain": [
              "tensor([[ 0.1000],\n",
              "        [-0.0623],\n",
              "        [-0.0458],\n",
              "        [ 0.1560],\n",
              "        [-0.2222],\n",
              "        [ 0.0946],\n",
              "        [-0.0583]])"
            ]
          },
          "metadata": {},
          "execution_count": 157
        }
      ]
    },
    {
      "cell_type": "code",
      "source": [
        "F.scaled_dot_product_attention(query=all_days_standardized,\n",
        "                               key=sales_matrix_standardized,\n",
        "                               value=price_vector_standardized.unsqueeze(1))"
      ],
      "metadata": {
        "colab": {
          "base_uri": "https://localhost:8080/"
        },
        "id": "Ef98o0s87GsN",
        "outputId": "ed2806fe-e8cb-4622-c6e1-12bcd74106c6"
      },
      "execution_count": null,
      "outputs": [
        {
          "output_type": "execute_result",
          "data": {
            "text/plain": [
              "tensor([[ 0.1000],\n",
              "        [-0.0623],\n",
              "        [-0.0458],\n",
              "        [ 0.1560],\n",
              "        [-0.2222],\n",
              "        [ 0.0946],\n",
              "        [-0.0583]])"
            ]
          },
          "metadata": {},
          "execution_count": 156
        }
      ]
    },
    {
      "cell_type": "code",
      "source": [],
      "metadata": {
        "id": "WWh0w0Rq6WDv"
      },
      "execution_count": null,
      "outputs": []
    },
    {
      "cell_type": "code",
      "source": [],
      "metadata": {
        "id": "yw00WM556WAm"
      },
      "execution_count": null,
      "outputs": []
    },
    {
      "cell_type": "code",
      "source": [
        "standardize_tensor_day = standardize_tensor(sales_on_monday)\n",
        "standardize_tensor_day"
      ],
      "metadata": {
        "colab": {
          "base_uri": "https://localhost:8080/"
        },
        "id": "I66hYN8o3lVv",
        "outputId": "2bb1a001-a2b7-4d79-9abe-842ef6fdfc0f"
      },
      "execution_count": null,
      "outputs": [
        {
          "output_type": "execute_result",
          "data": {
            "text/plain": [
              "tensor([-0.3780, -0.3780, -0.3780, -0.3780, -0.3780,  2.2678, -0.3780])"
            ]
          },
          "metadata": {},
          "execution_count": 126
        }
      ]
    },
    {
      "cell_type": "code",
      "source": [
        "# Combine with the key (<q, k.T>)\n",
        "wednesday_sales = sales_on_wednesday_vector.matmul(sales_matrix_standardized.T)\n",
        "wednesday_sales"
      ],
      "metadata": {
        "colab": {
          "base_uri": "https://localhost:8080/"
        },
        "id": "67wQyMucxUab",
        "outputId": "1e35ba2a-8a4e-4b52-d97a-e077c9e91433"
      },
      "execution_count": null,
      "outputs": [
        {
          "output_type": "execute_result",
          "data": {
            "text/plain": [
              "tensor([ 0.9231, -0.3024, -0.5623, -0.5623, -0.8223, -0.8223, -0.9708])"
            ]
          },
          "metadata": {},
          "execution_count": 83
        }
      ]
    },
    {
      "cell_type": "code",
      "source": [
        "sales_matrix"
      ],
      "metadata": {
        "colab": {
          "base_uri": "https://localhost:8080/"
        },
        "id": "-4eEMXfIx20s",
        "outputId": "51999674-9d19-4943-a16b-a85045c5b229"
      },
      "execution_count": null,
      "outputs": [
        {
          "output_type": "execute_result",
          "data": {
            "text/plain": [
              "tensor([[  0.,  50.,  55.,  68.,  91., 107.,  84.],\n",
              "        [  0.,  20.,  22.,  25.,  12.,  40.,  49.],\n",
              "        [  0.,  10.,  15.,  20.,  10.,  65.,  39.],\n",
              "        [  0.,  15.,  15.,  18.,  16.,  51.,  45.],\n",
              "        [  0.,  21.,   8.,  20.,  60.,  56.,  44.],\n",
              "        [  0.,   9.,   8.,  50.,  18.,  62.,  50.],\n",
              "        [  0.,  11.,   4.,   3.,   7.,  49.,  55.]])"
            ]
          },
          "metadata": {},
          "execution_count": 61
        }
      ]
    },
    {
      "cell_type": "code",
      "source": [
        "# Softmax on the sales (not so blown out! ... once the values were standardized)\n",
        "wednesday_sales = F.softmax(wednesday_sales, dim=0)\n",
        "wednesday_sales"
      ],
      "metadata": {
        "colab": {
          "base_uri": "https://localhost:8080/"
        },
        "id": "z0BQ9phtxUX7",
        "outputId": "8185165c-87fc-41a9-f1d7-9012b36b574c"
      },
      "execution_count": null,
      "outputs": [
        {
          "output_type": "execute_result",
          "data": {
            "text/plain": [
              "tensor([0.1917, 0.1399, 0.1358, 0.1358, 0.1327, 0.1327, 0.1313])"
            ]
          },
          "metadata": {},
          "execution_count": 60
        }
      ]
    },
    {
      "cell_type": "code",
      "source": [
        "# Scale on the sales\n",
        "wednesday_sales = wednesday_sales/torch.sqrt(torch.tensor(wednesday_sales.shape[0]))\n",
        "wednesday_sales"
      ],
      "metadata": {
        "colab": {
          "base_uri": "https://localhost:8080/"
        },
        "id": "oov-red4ysd4",
        "outputId": "fe866564-f36f-4196-bb23-4a37259be63a"
      },
      "execution_count": null,
      "outputs": [
        {
          "output_type": "execute_result",
          "data": {
            "text/plain": [
              "tensor([0.0724, 0.0529, 0.0513, 0.0513, 0.0502, 0.0502, 0.0496])"
            ]
          },
          "metadata": {},
          "execution_count": 63
        }
      ]
    },
    {
      "cell_type": "code",
      "source": [
        "# Multiply by the value to get the attention\n",
        "attention_to_pay_on_wednesdays = wednesday_sales @ price_vector_standardized\n",
        "attention_to_pay_on_wednesdays"
      ],
      "metadata": {
        "colab": {
          "base_uri": "https://localhost:8080/"
        },
        "id": "J_rEK_5ExUVF",
        "outputId": "4487851b-be13-4643-be5f-eb1b0c05b6ed"
      },
      "execution_count": null,
      "outputs": [
        {
          "output_type": "execute_result",
          "data": {
            "text/plain": [
              "tensor(-0.0216)"
            ]
          },
          "metadata": {},
          "execution_count": 64
        }
      ]
    },
    {
      "cell_type": "code",
      "source": [
        "price_vector_standardized"
      ],
      "metadata": {
        "colab": {
          "base_uri": "https://localhost:8080/"
        },
        "id": "LjUzl-C0x6I-",
        "outputId": "94c71f4a-3af6-456d-d9f2-61d212374d00"
      },
      "execution_count": null,
      "outputs": [
        {
          "output_type": "execute_result",
          "data": {
            "text/plain": [
              "tensor([-0.9730, -0.1871,  1.6467, -1.2350,  0.0748,  0.8608, -0.1871])"
            ]
          },
          "metadata": {},
          "execution_count": 66
        }
      ]
    },
    {
      "cell_type": "code",
      "source": [
        "each_day = torch.eye(7)\n",
        "each_day_standardized = standardize_tensor(each_day)\n",
        "each_day, each_day_standardized"
      ],
      "metadata": {
        "colab": {
          "base_uri": "https://localhost:8080/"
        },
        "id": "4OV9D0bVzLET",
        "outputId": "43d0e13d-3e94-4526-80bd-cfaf790738f6"
      },
      "execution_count": null,
      "outputs": [
        {
          "output_type": "execute_result",
          "data": {
            "text/plain": [
              "(tensor([[1., 0., 0., 0., 0., 0., 0.],\n",
              "         [0., 1., 0., 0., 0., 0., 0.],\n",
              "         [0., 0., 1., 0., 0., 0., 0.],\n",
              "         [0., 0., 0., 1., 0., 0., 0.],\n",
              "         [0., 0., 0., 0., 1., 0., 0.],\n",
              "         [0., 0., 0., 0., 0., 1., 0.],\n",
              "         [0., 0., 0., 0., 0., 0., 1.]]),\n",
              " tensor([[ 2.4244, -0.4041, -0.4041, -0.4041, -0.4041, -0.4041, -0.4041],\n",
              "         [-0.4041,  2.4244, -0.4041, -0.4041, -0.4041, -0.4041, -0.4041],\n",
              "         [-0.4041, -0.4041,  2.4244, -0.4041, -0.4041, -0.4041, -0.4041],\n",
              "         [-0.4041, -0.4041, -0.4041,  2.4244, -0.4041, -0.4041, -0.4041],\n",
              "         [-0.4041, -0.4041, -0.4041, -0.4041,  2.4244, -0.4041, -0.4041],\n",
              "         [-0.4041, -0.4041, -0.4041, -0.4041, -0.4041,  2.4244, -0.4041],\n",
              "         [-0.4041, -0.4041, -0.4041, -0.4041, -0.4041, -0.4041,  2.4244]]))"
            ]
          },
          "metadata": {},
          "execution_count": 164
        }
      ]
    },
    {
      "cell_type": "code",
      "source": [
        "# Attention to pay each day\n",
        "each_day = torch.ones((7))\n",
        "\n",
        "def attention(query, key, value):\n",
        "  d_k = torch.tensor(query.shape[-1]) # torch.sqrt needs a tensor\n",
        "  print(d_k)\n",
        "  q_k = F.softmax(torch.matmul(query, key.T)/torch.sqrt(d_k), dim=-1)\n",
        "  print(q_k.shape)\n",
        "  return torch.matmul(q_k, value)\n",
        "\n",
        "attention(query=each_day_standardized,\n",
        "          key=sales_matrix_standardized,\n",
        "          value=price_vector_standardized)"
      ],
      "metadata": {
        "colab": {
          "base_uri": "https://localhost:8080/"
        },
        "id": "kl-IsEFVzK5b",
        "outputId": "9c5ab760-0ecc-4532-e886-c48db27271d4"
      },
      "execution_count": null,
      "outputs": [
        {
          "output_type": "stream",
          "name": "stdout",
          "text": [
            "tensor(7)\n",
            "torch.Size([7, 7])\n"
          ]
        },
        {
          "output_type": "execute_result",
          "data": {
            "text/plain": [
              "tensor([ 0.1000, -0.0623, -0.0458,  0.1560, -0.2222,  0.0946, -0.0583])"
            ]
          },
          "metadata": {},
          "execution_count": 166
        }
      ]
    },
    {
      "cell_type": "code",
      "source": [
        "# Attention to pay each day\n",
        "monday = torch.zeros(7)\n",
        "monday[0] = 1\n",
        "monday_standardized = standardize_tensor(monday)\n",
        "print(monday)\n",
        "print(monday_standardized)\n",
        "\n",
        "def attention(query, key, value):\n",
        "  d_k = torch.tensor(query.shape[-1]) # torch.sqrt needs a tensor\n",
        "  print(d_k)\n",
        "  q_k = F.softmax(torch.matmul(query, key.T)/torch.sqrt(d_k), dim=-1)\n",
        "  print(q_k.shape)\n",
        "  return torch.matmul(q_k, value)\n",
        "\n",
        "attention(query=monday_standardized,\n",
        "          key=sales_matrix_standardized,\n",
        "          value=price_vector_standardized)"
      ],
      "metadata": {
        "colab": {
          "base_uri": "https://localhost:8080/"
        },
        "id": "pX_UFBsf5hOZ",
        "outputId": "68db0056-7844-4ebb-99e2-e6bad04c02f7"
      },
      "execution_count": null,
      "outputs": [
        {
          "output_type": "stream",
          "name": "stdout",
          "text": [
            "tensor([1., 0., 0., 0., 0., 0., 0.])\n",
            "tensor([ 2.2678, -0.3780, -0.3780, -0.3780, -0.3780, -0.3780, -0.3780])\n",
            "tensor(7)\n",
            "torch.Size([7])\n"
          ]
        },
        {
          "output_type": "execute_result",
          "data": {
            "text/plain": [
              "tensor(0.0979)"
            ]
          },
          "metadata": {},
          "execution_count": 170
        }
      ]
    },
    {
      "cell_type": "code",
      "source": [
        "# UPTOHERE\n",
        "# NEXT: clean up all of the above so it makes sense... in a bit of a mess now\n",
        "# Less but better..."
      ],
      "metadata": {
        "id": "xpMubs4O5r0e"
      },
      "execution_count": null,
      "outputs": []
    },
    {
      "cell_type": "code",
      "source": [],
      "metadata": {
        "id": "kt5_dUGp5hG8"
      },
      "execution_count": null,
      "outputs": []
    },
    {
      "cell_type": "code",
      "source": [],
      "metadata": {
        "id": "boXf5xSb1VJ2"
      },
      "execution_count": null,
      "outputs": []
    },
    {
      "cell_type": "code",
      "source": [
        "# query = day of week\n",
        "# key = sales per day\n",
        "# value = prices of products\n",
        "# result/output = value of total products sold on target day (how much attention to pay to a certain day)\n",
        "\n",
        "# TK - if you wanted to get more information, you could increase the cafe sales to (52, 7) -> sales per day for 52 weeks in a year\n",
        "# -> or (5, 52, 7) (year, weeks, days) -> sales per day per week for 5 years\n",
        "\n",
        "# TODO:\n",
        "\n",
        "# How does this relate to attention?\n",
        "\n",
        "# At a large enough scale, you can do this for words in sentences.\n",
        "# For example, say we have 100 sentences.\n",
        "# Which words mean the most to which other words?\n",
        "# In a small sample like this, you might be able to design fixed values (like our coffee shop for different products).\n",
        "# But with a larger scale, you might have to design different values for different contexts.\n",
        "# The analogy being in a coffee shop in Australia, your pricing and products might be different to a coffee shop in Africa.\n",
        "# With a large enough corpus of words, having fixed values isn't going to work.\n",
        "# But the principle remains, how important is each other word to another word in a sentence?\n",
        "# What should you do?\n",
        "# Well, you'd never have time to assign a value for each word across a huge corpus.\n",
        "# So you can make the values for each word learnable.\n",
        "# Much like you might adjust your cafe prices and sales events given different days of the week.\n",
        "# The sales on Monday are very low (zero) because your cafe is closed on Monday.\n",
        "# Your customers don't assign much money (or attention) to your cafe on Monday's since they know it's closed.\n",
        "# Much like the attention score for the word \"cat\" might be very low in comparison to the word \"sodium metabisulfite\" because the two hardly ever occur in context of each other.\n",
        "\n",
        "# Why self-attention?\n",
        "\n",
        "# Applying the mechanism to itself over and over for different sequences enables the system to learn from the data itself.\n",
        "# As in, what words keep on showing up in the context of other words?\n",
        "# The dot product/matrix multiplication will amplify larger values.\n",
        "# In essence, given the query \"dog\" and the key of every word in the vocabulary, hopefully the model will learn to return \"cat\" as a likely value and \"sodium metabisulfite\" as a less likely value."
      ],
      "metadata": {
        "id": "7Y5OVpaQ8qJ6"
      },
      "execution_count": null,
      "outputs": []
    },
    {
      "cell_type": "code",
      "source": [],
      "metadata": {
        "id": "5mVfO_5m8qFn"
      },
      "execution_count": null,
      "outputs": []
    },
    {
      "cell_type": "markdown",
      "source": [
        "## TODO: Simple scaled-dot-product-attention (with mask)\n",
        "\n",
        "Next:\n",
        "- Read through GPT-from-scratch again\n",
        "- Read through Facebook's xformers\n",
        "- Read through Transformers from scratch blog post\n",
        "\n",
        "--\n",
        "\n",
        "* see: https://jaykmody.com/blog/gpt-from-scratch/#causal\n",
        "* And see: https://github.com/facebookresearch/xformers/blob/main/xformers/components/attention/attention_mask.py\n",
        "  * Default to causal mask: https://github.com/facebookresearch/xformers/blob/97daac83cece6d3d77bb09479777ad6e8ef7dfed/xformers/components/attention/attention_mask.py#LL74C16-L74C16 (`make_causal()`)"
      ],
      "metadata": {
        "id": "2xKawhtOcYfI"
      }
    },
    {
      "cell_type": "code",
      "source": [
        "# Make causal mask, see: https://jaykmody.com/blog/gpt-from-scratch/#causal\n",
        "additive_mask = torch.triu(\n",
        "    # torch.ones(x.shape[0], x.shape[0]) * float(\"inf\"),\n",
        "    torch.ones(x.shape[0], x.shape[0]) * -1e10, # can use -1e10 to prevent nans\n",
        "    diagonal=1\n",
        ")\n",
        "\n",
        "additive_mask"
      ],
      "metadata": {
        "colab": {
          "base_uri": "https://localhost:8080/"
        },
        "id": "-66nS-Rdp0ox",
        "outputId": "9777db3a-8029-4da5-cbdf-79d77e5e457f"
      },
      "execution_count": null,
      "outputs": [
        {
          "output_type": "execute_result",
          "data": {
            "text/plain": [
              "tensor([[ 0.0000e+00, -1.0000e+10, -1.0000e+10, -1.0000e+10, -1.0000e+10,\n",
              "         -1.0000e+10, -1.0000e+10, -1.0000e+10, -1.0000e+10, -1.0000e+10],\n",
              "        [ 0.0000e+00,  0.0000e+00, -1.0000e+10, -1.0000e+10, -1.0000e+10,\n",
              "         -1.0000e+10, -1.0000e+10, -1.0000e+10, -1.0000e+10, -1.0000e+10],\n",
              "        [ 0.0000e+00,  0.0000e+00,  0.0000e+00, -1.0000e+10, -1.0000e+10,\n",
              "         -1.0000e+10, -1.0000e+10, -1.0000e+10, -1.0000e+10, -1.0000e+10],\n",
              "        [ 0.0000e+00,  0.0000e+00,  0.0000e+00,  0.0000e+00, -1.0000e+10,\n",
              "         -1.0000e+10, -1.0000e+10, -1.0000e+10, -1.0000e+10, -1.0000e+10],\n",
              "        [ 0.0000e+00,  0.0000e+00,  0.0000e+00,  0.0000e+00,  0.0000e+00,\n",
              "         -1.0000e+10, -1.0000e+10, -1.0000e+10, -1.0000e+10, -1.0000e+10],\n",
              "        [ 0.0000e+00,  0.0000e+00,  0.0000e+00,  0.0000e+00,  0.0000e+00,\n",
              "          0.0000e+00, -1.0000e+10, -1.0000e+10, -1.0000e+10, -1.0000e+10],\n",
              "        [ 0.0000e+00,  0.0000e+00,  0.0000e+00,  0.0000e+00,  0.0000e+00,\n",
              "          0.0000e+00,  0.0000e+00, -1.0000e+10, -1.0000e+10, -1.0000e+10],\n",
              "        [ 0.0000e+00,  0.0000e+00,  0.0000e+00,  0.0000e+00,  0.0000e+00,\n",
              "          0.0000e+00,  0.0000e+00,  0.0000e+00, -1.0000e+10, -1.0000e+10],\n",
              "        [ 0.0000e+00,  0.0000e+00,  0.0000e+00,  0.0000e+00,  0.0000e+00,\n",
              "          0.0000e+00,  0.0000e+00,  0.0000e+00,  0.0000e+00, -1.0000e+10],\n",
              "        [ 0.0000e+00,  0.0000e+00,  0.0000e+00,  0.0000e+00,  0.0000e+00,\n",
              "          0.0000e+00,  0.0000e+00,  0.0000e+00,  0.0000e+00,  0.0000e+00]])"
            ]
          },
          "metadata": {},
          "execution_count": 6
        }
      ]
    },
    {
      "cell_type": "code",
      "source": [
        "def attention_with_mask(query, key, value, mask=None):\n",
        "  d_k = torch.tensor(query.shape[-1]) # torch.sqrt needs a tensor\n",
        "  q_k = torch.matmul(query, key.T) / torch.sqrt(d_k)\n",
        "  print(q_k.shape)\n",
        "\n",
        "\n",
        "  print(f\"q_k: {q_k}\")\n",
        "\n",
        "  # Apply attention mask\n",
        "  if mask is not None:\n",
        "    q_k = q_k + mask\n",
        "\n",
        "  print(f\"q_k with mask: {q_k}\")\n",
        "\n",
        "  # Softmax\n",
        "  attn = F.softmax(q_k, dim=-1)\n",
        "\n",
        "  return torch.matmul(attn, value), attn\n",
        "\n",
        "attention_with_mask(query=x, key=x, value=x, mask=additive_mask)"
      ],
      "metadata": {
        "colab": {
          "base_uri": "https://localhost:8080/"
        },
        "id": "MJcxus6qcYRE",
        "outputId": "0e5bc32a-6e9d-428e-ec59-97cbb2c8711b"
      },
      "execution_count": null,
      "outputs": [
        {
          "output_type": "stream",
          "name": "stdout",
          "text": [
            "torch.Size([10, 10])\n",
            "q_k: tensor([[ 6.0130e+00, -7.9063e-01, -1.6862e+00, -5.4706e-01, -1.2946e+00,\n",
            "         -1.5651e-01, -9.5597e-01, -1.4247e-01,  4.3972e-01, -5.1831e-01],\n",
            "        [-7.9063e-01,  2.3093e+00, -5.7266e-01,  6.2206e-01,  3.1750e-01,\n",
            "         -9.4774e-01,  1.2001e-01,  1.7332e-01,  1.3094e+00, -7.1141e-01],\n",
            "        [-1.6862e+00, -5.7266e-01,  3.3930e+00,  3.3083e-03,  1.3948e-01,\n",
            "         -2.0294e-01,  2.6444e+00,  1.1129e+00, -1.9716e-01,  2.9590e-01],\n",
            "        [-5.4706e-01,  6.2206e-01,  3.3083e-03,  2.3570e+00,  2.2022e+00,\n",
            "         -6.3796e-01,  1.2451e+00,  7.0473e-01,  8.8856e-01, -9.7713e-01],\n",
            "        [-1.2946e+00,  3.1750e-01,  1.3948e-01,  2.2022e+00,  4.3364e+00,\n",
            "          2.9038e-01, -3.1773e-01,  1.8019e+00,  2.3513e-01, -5.8754e-01],\n",
            "        [-1.5651e-01, -9.4774e-01, -2.0294e-01, -6.3796e-01,  2.9038e-01,\n",
            "          1.7630e+00, -5.9041e-01, -8.1988e-02, -7.1263e-01,  1.0189e+00],\n",
            "        [-9.5597e-01,  1.2001e-01,  2.6444e+00,  1.2451e+00, -3.1773e-01,\n",
            "         -5.9041e-01,  4.7130e+00,  1.3152e+00,  1.0626e+00, -5.1111e-01],\n",
            "        [-1.4247e-01,  1.7332e-01,  1.1129e+00,  7.0473e-01,  1.8019e+00,\n",
            "         -8.1988e-02,  1.3152e+00,  2.9753e+00,  5.4820e-01, -6.4669e-01],\n",
            "        [ 4.3972e-01,  1.3094e+00, -1.9716e-01,  8.8856e-01,  2.3513e-01,\n",
            "         -7.1263e-01,  1.0626e+00,  5.4820e-01,  1.6245e+00, -6.7865e-01],\n",
            "        [-5.1831e-01, -7.1141e-01,  2.9590e-01, -9.7713e-01, -5.8754e-01,\n",
            "          1.0189e+00, -5.1111e-01, -6.4669e-01, -6.7865e-01,  1.0872e+00]])\n",
            "q_k with mask: tensor([[ 6.0130e+00, -1.0000e+10, -1.0000e+10, -1.0000e+10, -1.0000e+10,\n",
            "         -1.0000e+10, -1.0000e+10, -1.0000e+10, -1.0000e+10, -1.0000e+10],\n",
            "        [-7.9063e-01,  2.3093e+00, -1.0000e+10, -1.0000e+10, -1.0000e+10,\n",
            "         -1.0000e+10, -1.0000e+10, -1.0000e+10, -1.0000e+10, -1.0000e+10],\n",
            "        [-1.6862e+00, -5.7266e-01,  3.3930e+00, -1.0000e+10, -1.0000e+10,\n",
            "         -1.0000e+10, -1.0000e+10, -1.0000e+10, -1.0000e+10, -1.0000e+10],\n",
            "        [-5.4706e-01,  6.2206e-01,  3.3083e-03,  2.3570e+00, -1.0000e+10,\n",
            "         -1.0000e+10, -1.0000e+10, -1.0000e+10, -1.0000e+10, -1.0000e+10],\n",
            "        [-1.2946e+00,  3.1750e-01,  1.3948e-01,  2.2022e+00,  4.3364e+00,\n",
            "         -1.0000e+10, -1.0000e+10, -1.0000e+10, -1.0000e+10, -1.0000e+10],\n",
            "        [-1.5651e-01, -9.4774e-01, -2.0294e-01, -6.3796e-01,  2.9038e-01,\n",
            "          1.7630e+00, -1.0000e+10, -1.0000e+10, -1.0000e+10, -1.0000e+10],\n",
            "        [-9.5597e-01,  1.2001e-01,  2.6444e+00,  1.2451e+00, -3.1773e-01,\n",
            "         -5.9041e-01,  4.7130e+00, -1.0000e+10, -1.0000e+10, -1.0000e+10],\n",
            "        [-1.4247e-01,  1.7332e-01,  1.1129e+00,  7.0473e-01,  1.8019e+00,\n",
            "         -8.1988e-02,  1.3152e+00,  2.9753e+00, -1.0000e+10, -1.0000e+10],\n",
            "        [ 4.3972e-01,  1.3094e+00, -1.9716e-01,  8.8856e-01,  2.3513e-01,\n",
            "         -7.1263e-01,  1.0626e+00,  5.4820e-01,  1.6245e+00, -1.0000e+10],\n",
            "        [-5.1831e-01, -7.1141e-01,  2.9590e-01, -9.7713e-01, -5.8754e-01,\n",
            "          1.0189e+00, -5.1111e-01, -6.4669e-01, -6.7865e-01,  1.0872e+00]])\n"
          ]
        },
        {
          "output_type": "execute_result",
          "data": {
            "text/plain": [
              "(tensor([[ 1.9269,  1.4873,  0.9007, -2.1055,  0.6784, -1.2345, -0.0431, -1.6047,\n",
              "          -0.7521,  1.6487],\n",
              "         [-0.2925, -1.2790, -0.6577, -0.6261, -0.7064,  0.6764,  1.5697, -0.2219,\n",
              "          -0.5084,  0.4917],\n",
              "         [-0.7351,  1.0349,  0.7731,  1.6162,  1.2376,  1.2712,  0.6256,  1.2893,\n",
              "          -0.2397,  0.0589],\n",
              "         [-0.2166,  0.6004, -1.0463, -0.6979, -0.1510,  1.4382,  0.5008, -0.3120,\n",
              "           0.1167, -0.4545],\n",
              "         [-1.3844,  0.9470, -0.9017, -0.6031, -1.1193,  2.0389, -1.0030, -0.4560,\n",
              "          -0.7730, -0.6367],\n",
              "         [-0.0906,  0.6622, -0.3702,  0.5163, -0.5373, -0.0254, -0.8781, -0.1037,\n",
              "          -0.2517,  0.4371],\n",
              "         [-0.1764,  1.6977, -0.9631,  1.3173,  1.3377,  0.9195,  1.9504,  0.5652,\n",
              "           0.2647, -0.1750],\n",
              "         [-0.8553,  1.1510, -0.3746,  0.3669,  0.0303,  0.8280,  0.4054, -0.3187,\n",
              "          -1.3058, -0.4890],\n",
              "         [-0.1844,  0.3723, -0.7960, -0.2162,  0.2121,  0.7338,  0.8952, -0.2755,\n",
              "          -0.4961,  0.1444],\n",
              "         [-0.0799,  0.4215, -0.1679,  0.7412, -0.0078,  0.1213, -0.3360,  0.0507,\n",
              "          -0.1702,  0.3801]]),\n",
              " tensor([[1.0000, 0.0000, 0.0000, 0.0000, 0.0000, 0.0000, 0.0000, 0.0000, 0.0000,\n",
              "          0.0000],\n",
              "         [0.0431, 0.9569, 0.0000, 0.0000, 0.0000, 0.0000, 0.0000, 0.0000, 0.0000,\n",
              "          0.0000],\n",
              "         [0.0061, 0.0185, 0.9754, 0.0000, 0.0000, 0.0000, 0.0000, 0.0000, 0.0000,\n",
              "          0.0000],\n",
              "         [0.0413, 0.1330, 0.0716, 0.7540, 0.0000, 0.0000, 0.0000, 0.0000, 0.0000,\n",
              "          0.0000],\n",
              "         [0.0031, 0.0156, 0.0130, 0.1025, 0.8659, 0.0000, 0.0000, 0.0000, 0.0000,\n",
              "          0.0000],\n",
              "         [0.0877, 0.0397, 0.0837, 0.0542, 0.1371, 0.5977, 0.0000, 0.0000, 0.0000,\n",
              "          0.0000],\n",
              "         [0.0029, 0.0086, 0.1068, 0.0264, 0.0055, 0.0042, 0.8456, 0.0000, 0.0000,\n",
              "          0.0000],\n",
              "         [0.0232, 0.0318, 0.0813, 0.0541, 0.1619, 0.0246, 0.0995, 0.5236, 0.0000,\n",
              "          0.0000],\n",
              "         [0.0778, 0.1855, 0.0411, 0.1218, 0.0634, 0.0246, 0.1449, 0.0867, 0.2543,\n",
              "          0.0000],\n",
              "         [0.0555, 0.0458, 0.1253, 0.0351, 0.0518, 0.2582, 0.0559, 0.0488, 0.0473,\n",
              "          0.2764]]))"
            ]
          },
          "metadata": {},
          "execution_count": 7
        }
      ]
    },
    {
      "cell_type": "markdown",
      "source": [
        "## TODO: Why scaled?\n",
        "\n",
        "TL;DR softmax can get out of hand with large values"
      ],
      "metadata": {
        "id": "Y-c_uyAVUDzT"
      }
    },
    {
      "cell_type": "code",
      "source": [
        "small_values = torch.tensor([1, 2, 3], dtype=torch.float32) # need dtype otherwise error\n",
        "big_values = small_values * 10\n",
        "huge_values = big_values * 10\n",
        "\n",
        "small_softmax = F.softmax(small_values, dim=0)\n",
        "big_softmax = F.softmax(big_values, dim=0)\n",
        "huge_softmax = F.softmax(huge_values, dim=0)\n",
        "\n",
        "print(f\"Small values: {small_values}\\nSmall softmax: {small_softmax}\\n\")\n",
        "print(f\"Big values: {big_values}\\nBig softmax: {big_softmax}\\n\")\n",
        "print(f\"Huge values: {huge_values}\\nHuge softmax: {huge_softmax}\\n\")"
      ],
      "metadata": {
        "colab": {
          "base_uri": "https://localhost:8080/"
        },
        "id": "Z9ZRWyJTUJUx",
        "outputId": "b4ed2782-c367-4edd-ae08-c75d80fa5106"
      },
      "execution_count": null,
      "outputs": [
        {
          "output_type": "stream",
          "name": "stdout",
          "text": [
            "Small values: tensor([1., 2., 3.])\n",
            "Small softmax: tensor([0.0900, 0.2447, 0.6652])\n",
            "\n",
            "Big values: tensor([10., 20., 30.])\n",
            "Big softmax: tensor([2.0611e-09, 4.5398e-05, 9.9995e-01])\n",
            "\n",
            "Huge values: tensor([100., 200., 300.])\n",
            "Huge softmax: tensor([0.0000e+00, 3.7835e-44, 1.0000e+00])\n",
            "\n"
          ]
        }
      ]
    },
    {
      "cell_type": "markdown",
      "source": [
        "## TODO: Why dot-product?\n",
        "\n",
        "TL;DR dot product measures how closely two vectors are related\n",
        "\n",
        "* big values = close\n",
        "* negative values = far away\n",
        "* zero value = same direction? (TK - fix this)\n",
        "\n",
        "See:\n",
        "* 3blue1brown on dot product - https://www.youtube.com/watch?v=LyGKycYT2v0"
      ],
      "metadata": {
        "id": "lQV-oF1SUm8u"
      }
    },
    {
      "cell_type": "code",
      "source": [
        "vector_1 = torch.arange(0, 1, 0.1)\n",
        "vector_2 = torch.ones_like(vector_1) / 10\n",
        "vector_3 = vector_1 - 0.1\n",
        "vector_4 = -vector_1\n",
        "print(vector_2)\n",
        "\n",
        "import matplotlib.pyplot as plt\n",
        "\n",
        "plt.plot(vector_1, label=\"vector_1\")\n",
        "plt.plot(vector_2, label=\"vector_2\")\n",
        "plt.plot(vector_3, label=\"vector_3\")\n",
        "plt.plot(vector_4, label=\"vector_4\")\n",
        "plt.legend();"
      ],
      "metadata": {
        "id": "hw3orswBU-GF",
        "colab": {
          "base_uri": "https://localhost:8080/",
          "height": 466
        },
        "outputId": "d0f11906-81ef-436d-8c47-256c708dfbf7"
      },
      "execution_count": 88,
      "outputs": [
        {
          "output_type": "stream",
          "name": "stdout",
          "text": [
            "tensor([0.1000, 0.1000, 0.1000, 0.1000, 0.1000, 0.1000, 0.1000, 0.1000, 0.1000,\n",
            "        0.1000])\n"
          ]
        },
        {
          "output_type": "display_data",
          "data": {
            "text/plain": [
              "<Figure size 640x480 with 1 Axes>"
            ],
            "image/png": "[encoded data removed]"
          },
          "metadata": {}
        }
      ]
    },
    {
      "cell_type": "code",
      "source": [
        "cosine_sim = nn.CosineSimilarity(dim=0)\n",
        "cosine_sim(vector_1, vector_1)"
      ],
      "metadata": {
        "colab": {
          "base_uri": "https://localhost:8080/"
        },
        "id": "btLpmYjjnzqQ",
        "outputId": "3159763d-ccca-457d-a7d9-6b879ab13efc"
      },
      "execution_count": 84,
      "outputs": [
        {
          "output_type": "execute_result",
          "data": {
            "text/plain": [
              "tensor(1.0000)"
            ]
          },
          "metadata": {},
          "execution_count": 84
        }
      ]
    },
    {
      "cell_type": "code",
      "source": [
        "torch.dot(vector_1, vector_1)"
      ],
      "metadata": {
        "colab": {
          "base_uri": "https://localhost:8080/"
        },
        "id": "wt1GW6VDm-Bx",
        "outputId": "d800afbe-443c-4621-9203-b82c84c731c1"
      },
      "execution_count": 40,
      "outputs": [
        {
          "output_type": "execute_result",
          "data": {
            "text/plain": [
              "tensor(2.8500)"
            ]
          },
          "metadata": {},
          "execution_count": 40
        }
      ]
    },
    {
      "cell_type": "code",
      "source": [
        "torch.dot(vector_1, vector_2)"
      ],
      "metadata": {
        "colab": {
          "base_uri": "https://localhost:8080/"
        },
        "id": "RUpB8NIcmksx",
        "outputId": "ec0b759c-39dd-490b-9409-31426df49486"
      },
      "execution_count": 33,
      "outputs": [
        {
          "output_type": "execute_result",
          "data": {
            "text/plain": [
              "tensor(0.4500)"
            ]
          },
          "metadata": {},
          "execution_count": 33
        }
      ]
    },
    {
      "cell_type": "code",
      "source": [
        "torch.dot(vector_1, vector_3)"
      ],
      "metadata": {
        "colab": {
          "base_uri": "https://localhost:8080/"
        },
        "id": "MhCy5erUmnFR",
        "outputId": "51471dc9-b77c-4c8f-cf0f-2340080e152f"
      },
      "execution_count": 35,
      "outputs": [
        {
          "output_type": "execute_result",
          "data": {
            "text/plain": [
              "tensor(2.4000)"
            ]
          },
          "metadata": {},
          "execution_count": 35
        }
      ]
    },
    {
      "cell_type": "code",
      "source": [
        "torch.dot(vector_2, vector_3)"
      ],
      "metadata": {
        "colab": {
          "base_uri": "https://localhost:8080/"
        },
        "id": "FJiwFLoKmuvp",
        "outputId": "adc5a2c1-2ad6-4f33-b111-e65801e95db6"
      },
      "execution_count": 36,
      "outputs": [
        {
          "output_type": "execute_result",
          "data": {
            "text/plain": [
              "tensor(0.3500)"
            ]
          },
          "metadata": {},
          "execution_count": 36
        }
      ]
    },
    {
      "cell_type": "code",
      "source": [
        "torch.dot(vector_1, vector_4)"
      ],
      "metadata": {
        "colab": {
          "base_uri": "https://localhost:8080/"
        },
        "id": "1OWoPXzgm4Q2",
        "outputId": "0449f94f-ae87-42ab-94f8-6502a92baf95"
      },
      "execution_count": 38,
      "outputs": [
        {
          "output_type": "execute_result",
          "data": {
            "text/plain": [
              "tensor(-2.8500)"
            ]
          },
          "metadata": {},
          "execution_count": 38
        }
      ]
    },
    {
      "cell_type": "code",
      "source": [
        "# Sales example (total sales on Wednesday)\n",
        "torch.dot(price_vector, sales_matrix[:, 2])"
      ],
      "metadata": {
        "colab": {
          "base_uri": "https://localhost:8080/"
        },
        "id": "Ok_hMVtpoVRy",
        "outputId": "df76a08c-4001-4340-a8c2-70bf17629993"
      },
      "execution_count": 67,
      "outputs": [
        {
          "output_type": "execute_result",
          "data": {
            "text/plain": [
              "tensor(936.)"
            ]
          },
          "metadata": {},
          "execution_count": 67
        }
      ]
    },
    {
      "cell_type": "code",
      "source": [
        "# Same as taking the multiple and then summing them\n",
        "torch.sum(price_vector * df[\"Wednesday\"].values, dtype=torch.float32)"
      ],
      "metadata": {
        "colab": {
          "base_uri": "https://localhost:8080/"
        },
        "id": "rMiVEvINo_3U",
        "outputId": "b17a2ad2-e979-4692-ae71-a31821ecce19"
      },
      "execution_count": 75,
      "outputs": [
        {
          "output_type": "execute_result",
          "data": {
            "text/plain": [
              "tensor(936.)"
            ]
          },
          "metadata": {},
          "execution_count": 75
        }
      ]
    },
    {
      "cell_type": "code",
      "source": [
        "# Compresses the information into a single number\n",
        "cosine_sim(price_vector, price_vector)"
      ],
      "metadata": {
        "colab": {
          "base_uri": "https://localhost:8080/"
        },
        "id": "5j6vCJcoolV3",
        "outputId": "c9e73d10-5576-4750-dcf2-8b2dbba9373e"
      },
      "execution_count": 80,
      "outputs": [
        {
          "output_type": "execute_result",
          "data": {
            "text/plain": [
              "tensor(1.0000)"
            ]
          },
          "metadata": {},
          "execution_count": 80
        }
      ]
    },
    {
      "cell_type": "code",
      "source": [
        "import numpy as np\n",
        "np.dot(price_vector, price_vector)"
      ],
      "metadata": {
        "colab": {
          "base_uri": "https://localhost:8080/"
        },
        "id": "AqpIVmJjqF-g",
        "outputId": "14cb1bc4-528d-477a-e937-a6842f4897aa"
      },
      "execution_count": 82,
      "outputs": [
        {
          "output_type": "execute_result",
          "data": {
            "text/plain": [
              "619.0"
            ]
          },
          "metadata": {},
          "execution_count": 82
        }
      ]
    },
    {
      "cell_type": "markdown",
      "source": [
        "## TODO: Replicate PyTorch's `scaled_dot_product_attention`\n",
        "\n",
        "(minus all the fancy optimizations, the library can do those for us)\n",
        "\n",
        "See: https://pytorch.org/docs/stable/generated/torch.nn.functional.scaled_dot_product_attention.html\n",
        "\n",
        "Also see: https://github.com/facebookresearch/xformers/blob/main/xformers/components/attention/core.py#L297"
      ],
      "metadata": {
        "id": "Mi9DKRGiOQJw"
      }
    },
    {
      "cell_type": "code",
      "source": [
        "# Optionally use the context manager to ensure one of the fused kerenels is run\n",
        "torch.manual_seed(42)\n",
        "\n",
        "query = torch.rand(32, 8, 128, 64) # [batch_size, num_heads, sequence_length, embedding_dim]\n",
        "key = torch.rand(32, 8, 128, 64)\n",
        "value = torch.rand(32, 8, 128, 64)\n"
      ],
      "metadata": {
        "id": "_JdMr4Jbshcu"
      },
      "execution_count": null,
      "outputs": []
    },
    {
      "cell_type": "code",
      "source": [
        "output_pytorch = F.scaled_dot_product_attention(query, key, value)\n",
        "print(output_pytorch.shape)\n",
        "print(output_pytorch[0, 0, 0])"
      ],
      "metadata": {
        "colab": {
          "base_uri": "https://localhost:8080/"
        },
        "id": "SDOCXshXQPxA",
        "outputId": "e5de2920-909c-4908-db52-53ffa5a4c145"
      },
      "execution_count": null,
      "outputs": [
        {
          "output_type": "stream",
          "name": "stdout",
          "text": [
            "torch.Size([32, 8, 128, 64])\n",
            "tensor([0.5430, 0.5479, 0.5143, 0.4744, 0.5149, 0.4867, 0.5063, 0.5088, 0.4863,\n",
            "        0.4620, 0.4989, 0.5488, 0.4746, 0.4955, 0.5334, 0.4886, 0.5158, 0.5267,\n",
            "        0.5183, 0.5251, 0.4939, 0.5092, 0.5408, 0.4267, 0.4645, 0.5221, 0.5587,\n",
            "        0.4917, 0.5142, 0.4762, 0.4839, 0.4837, 0.4937, 0.4671, 0.4898, 0.5195,\n",
            "        0.4942, 0.4938, 0.4783, 0.4796, 0.5454, 0.4686, 0.5112, 0.5717, 0.5081,\n",
            "        0.4588, 0.5151, 0.4970, 0.4649, 0.5143, 0.5019, 0.5053, 0.4928, 0.5278,\n",
            "        0.5332, 0.5121, 0.4882, 0.4992, 0.5197, 0.4865, 0.5028, 0.4908, 0.4975,\n",
            "        0.4808])\n"
          ]
        }
      ]
    },
    {
      "cell_type": "code",
      "source": [
        "def attention(query, key, value):\n",
        "  d_k = torch.tensor(query.shape[-1]) # torch.sqrt needs a tensor\n",
        "  print(torch.matmul(query, key.mT).shape)\n",
        "  print(key.mT.shape)\n",
        "  print(key.transpose(-2, -1).shape)\n",
        "\n",
        "  # tensor.mT is equivalent to tensor.transpose(-2, -1), see: https://pytorch.org/docs/stable/tensors.html#torch.Tensor.mT\n",
        "  # -> last two dimensions reversed\n",
        "  q_k = F.softmax(torch.matmul(query, key.mT)/torch.sqrt(d_k), dim=-1)\n",
        "\n",
        "  print(d_k)\n",
        "\n",
        "  print(d_k.shape, q_k.shape, value.shape)\n",
        "  print(q_k.shape, value.mT.shape)\n",
        "\n",
        "  return torch.matmul(q_k, value)\n",
        "\n",
        "output_custom = attention(query, key, value)\n",
        "print(output_pytorch.shape)\n",
        "print(output_pytorch[0, 0, 0])"
      ],
      "metadata": {
        "colab": {
          "base_uri": "https://localhost:8080/"
        },
        "id": "V4j-VvKEpZVI",
        "outputId": "994b844c-84b5-4da8-a12f-17b08f0444bb"
      },
      "execution_count": null,
      "outputs": [
        {
          "output_type": "stream",
          "name": "stdout",
          "text": [
            "torch.Size([32, 8, 128, 128])\n",
            "torch.Size([32, 8, 64, 128])\n",
            "torch.Size([32, 8, 64, 128])\n",
            "tensor(64)\n",
            "torch.Size([]) torch.Size([32, 8, 128, 128]) torch.Size([32, 8, 128, 64])\n",
            "torch.Size([32, 8, 128, 128]) torch.Size([32, 8, 64, 128])\n",
            "torch.Size([32, 8, 128, 64])\n",
            "tensor([0.5430, 0.5479, 0.5143, 0.4744, 0.5149, 0.4867, 0.5063, 0.5088, 0.4863,\n",
            "        0.4620, 0.4989, 0.5488, 0.4746, 0.4955, 0.5334, 0.4886, 0.5158, 0.5267,\n",
            "        0.5183, 0.5251, 0.4939, 0.5092, 0.5408, 0.4267, 0.4645, 0.5221, 0.5587,\n",
            "        0.4917, 0.5142, 0.4762, 0.4839, 0.4837, 0.4937, 0.4671, 0.4898, 0.5195,\n",
            "        0.4942, 0.4938, 0.4783, 0.4796, 0.5454, 0.4686, 0.5112, 0.5717, 0.5081,\n",
            "        0.4588, 0.5151, 0.4970, 0.4649, 0.5143, 0.5019, 0.5053, 0.4928, 0.5278,\n",
            "        0.5332, 0.5121, 0.4882, 0.4992, 0.5197, 0.4865, 0.5028, 0.4908, 0.4975,\n",
            "        0.4808])\n"
          ]
        }
      ]
    },
    {
      "cell_type": "code",
      "source": [
        "# Assert all of the output values are close\n",
        "assert torch.all(output_custom.isclose(output_pytorch))"
      ],
      "metadata": {
        "id": "axD45MIHpO3y"
      },
      "execution_count": null,
      "outputs": []
    },
    {
      "cell_type": "markdown",
      "source": [
        "## TODO: A cool trick with `einops`"
      ],
      "metadata": {
        "id": "71vKVcG4l54t"
      }
    },
    {
      "cell_type": "code",
      "source": [
        "# What about einops?\n",
        "!pip install einops"
      ],
      "metadata": {
        "colab": {
          "base_uri": "https://localhost:8080/"
        },
        "id": "cZrCXRCQucfh",
        "outputId": "08146330-093e-4e07-d5c8-b364437d11f3"
      },
      "execution_count": null,
      "outputs": [
        {
          "output_type": "stream",
          "name": "stdout",
          "text": [
            "Looking in indexes: https://pypi.org/simple, https://us-python.pkg.dev/colab-wheels/public/simple/\n",
            "Collecting einops\n",
            "  Downloading einops-0.6.1-py3-none-any.whl (42 kB)\n",
            "\u001b[2K     \u001b[90m━━━━━━━━━━━━━━━━━━━━━━━━━━━━━━━━━━━━━━━━\u001b[0m \u001b[32m42.2/42.2 kB\u001b[0m \u001b[31m4.2 MB/s\u001b[0m eta \u001b[36m0:00:00\u001b[0m\n",
            "\u001b[?25hInstalling collected packages: einops\n",
            "Successfully installed einops-0.6.1\n"
          ]
        }
      ]
    },
    {
      "cell_type": "code",
      "source": [
        "from einops import rearrange, reduce, repeat\n",
        "\n",
        "print(f\"Key shape: {key.shape} [batch, num_heads, input_sequence, embedding_dim]\")\n",
        "\n",
        "### The following all do the same ###\n",
        "\n",
        "# Rearrange the shape for our use case\n",
        "key_rearranged = rearrange(key, 'batch heads input embed -> batch heads embed input')\n",
        "\n",
        "# Key tranposed\n",
        "key_transposed = key.transpose(-2, -1)\n",
        "\n",
        "# Key mT (note: use .mT rather than .T on tensors with more than two dimensions)\n",
        "key_mt = key.mT\n",
        "\n",
        "print(key_rearranged.shape, key_transposed.shape, key_mt.shape)\n",
        "assert key_rearranged.shape == key_transposed.shape == key_mt.shape"
      ],
      "metadata": {
        "colab": {
          "base_uri": "https://localhost:8080/"
        },
        "id": "QWU9f--huvnB",
        "outputId": "b7aa6537-d8c9-42a9-c03d-09203f1a063d"
      },
      "execution_count": null,
      "outputs": [
        {
          "output_type": "stream",
          "name": "stdout",
          "text": [
            "Key shape: torch.Size([32, 8, 128, 64]) [batch, num_heads, input_sequence, embedding_dim]\n",
            "torch.Size([32, 8, 64, 128]) torch.Size([32, 8, 64, 128]) torch.Size([32, 8, 64, 128])\n"
          ]
        }
      ]
    },
    {
      "cell_type": "markdown",
      "source": [
        "## TODO: Why multi-head attention?\n",
        "\n",
        "TL;DR more opportunities to learn (e.g. 8x64 scaled dot-product attention = better than 1*512)\n",
        "\n",
        "TK:\n",
        "- One big matrix multiplication better than lots of small ones\n",
        "- Just perform a `nn.Linear()` then break it up"
      ],
      "metadata": {
        "id": "81KIT2MtYKyH"
      }
    },
    {
      "cell_type": "code",
      "source": [],
      "metadata": {
        "id": "InUnaU5hYY4i"
      },
      "execution_count": null,
      "outputs": []
    }
  ]
}